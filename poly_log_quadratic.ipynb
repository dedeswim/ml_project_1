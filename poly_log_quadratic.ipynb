{
 "cells": [
  {
   "cell_type": "code",
   "execution_count": 1,
   "metadata": {},
   "outputs": [],
   "source": [
    "import sys\n",
    "sys.path.append('..')\n",
    "\n",
    "import numpy as np\n",
    "from src.helpers import load_csv_data, standardize, remove_incomplete_columns, predict_labels, create_csv_submission\n",
    "from src.logistic.implementations import logistic_regression\n",
    "from src.logistic.loss import compute_loss\n",
    "from src.logistic.not_req_impl import reg_logistic_regression, gradient_descent_step\n",
    "from src.logistic.gradient import compute_gradient\n",
    "from src.split import split_data\n",
    "\n",
    "from src.logistic.sigmoid import sigmoid\n",
    "from src.helpers import remove_correlated_columns\n",
    "from src.polynomials import build_poly_matrix_quadratic\n",
    "\n",
    "%reload_ext autoreload\n",
    "%autoreload 2"
   ]
  },
  {
   "cell_type": "code",
   "execution_count": 2,
   "metadata": {},
   "outputs": [],
   "source": [
    "# Import data\n",
    "y, x_raw, ids = load_csv_data('data/train.csv')\n",
    "init_col_n = x_raw.shape[1]"
   ]
  },
  {
   "cell_type": "code",
   "execution_count": 3,
   "metadata": {},
   "outputs": [],
   "source": [
    "# create list of columns indices\n",
    "curr_cols = [x for x in range(x_raw.shape[1])]\n",
    "\n",
    "def rem_cols(lst, mask):\n",
    "    for c,x in enumerate(mask):\n",
    "        if not x:\n",
    "            lst.remove(c)"
   ]
  },
  {
   "cell_type": "code",
   "execution_count": 4,
   "metadata": {},
   "outputs": [],
   "source": [
    "# Clean the data\n",
    "x, kept_columns = remove_incomplete_columns(x_raw)\n",
    "rem_cols(curr_cols, kept_columns)"
   ]
  },
  {
   "cell_type": "code",
   "execution_count": 5,
   "metadata": {},
   "outputs": [
    {
     "data": {
      "text/plain": [
       "[0, 1, 2, 3, 7, 8, 9, 10, 11, 13, 14, 15, 16, 17, 18, 19, 20, 21, 22, 29]"
      ]
     },
     "execution_count": 5,
     "metadata": {},
     "output_type": "execute_result"
    }
   ],
   "source": [
    "curr_cols"
   ]
  },
  {
   "cell_type": "code",
   "execution_count": 6,
   "metadata": {},
   "outputs": [],
   "source": [
    "x, kept_columns_2 = remove_correlated_columns(x)\n",
    "rem_cols(curr_cols, kept_columns_2)"
   ]
  },
  {
   "cell_type": "code",
   "execution_count": 7,
   "metadata": {},
   "outputs": [
    {
     "data": {
      "text/plain": [
       "array([ True,  True,  True,  True,  True,  True,  True,  True,  True,\n",
       "        True,  True,  True,  True,  True,  True,  True,  True, False,\n",
       "        True, False])"
      ]
     },
     "execution_count": 7,
     "metadata": {},
     "output_type": "execute_result"
    }
   ],
   "source": [
    "kept_columns_2"
   ]
  },
  {
   "cell_type": "code",
   "execution_count": 8,
   "metadata": {},
   "outputs": [
    {
     "data": {
      "text/plain": [
       "[0, 1, 2, 3, 7, 8, 9, 10, 11, 13, 14, 15, 16, 18, 20, 21, 22, 29]"
      ]
     },
     "execution_count": 8,
     "metadata": {},
     "output_type": "execute_result"
    }
   ],
   "source": [
    "curr_cols"
   ]
  },
  {
   "cell_type": "code",
   "execution_count": 9,
   "metadata": {},
   "outputs": [],
   "source": [
    "# Transform y for logistic regression\n",
    "y[np.where(y == -1)] = 0"
   ]
  },
  {
   "cell_type": "code",
   "execution_count": 10,
   "metadata": {},
   "outputs": [],
   "source": [
    "# Standardize x and add the 1s column\n",
    "x, mean_x, std_x = standardize(x)\n",
    "tx = np.c_[np.ones((y.shape[0], 1)), x]"
   ]
  },
  {
   "cell_type": "code",
   "execution_count": 11,
   "metadata": {},
   "outputs": [],
   "source": [
    "# poly\n",
    "tx = build_poly_matrix_quadratic(tx)"
   ]
  },
  {
   "cell_type": "code",
   "execution_count": 12,
   "metadata": {},
   "outputs": [],
   "source": [
    "# Split the data\n",
    "tx_train, y_train, tx_test, y_test = split_data(tx, y, 0.8)"
   ]
  },
  {
   "cell_type": "code",
   "execution_count": 13,
   "metadata": {},
   "outputs": [
    {
     "name": "stdout",
     "output_type": "stream",
     "text": [
      "Current iteration=0, loss=[173286.79513999]\n",
      "||d|| = 4.692392330159733\n",
      "Current iteration=1000, loss=[149123.86361978]\n",
      "||d|| = 2.2717767281305665\n",
      "Current iteration=2000, loss=[147940.21421259]\n",
      "||d|| = 2.055167097109393\n",
      "Current iteration=3000, loss=[146975.26733716]\n",
      "||d|| = 1.8556481129181002\n",
      "Current iteration=4000, loss=[146414.65681485]\n",
      "||d|| = 1.3583559419878584\n",
      "Current iteration=5000, loss=[144984.9959531]\n",
      "||d|| = 6.246465280289287\n",
      "Current iteration=6000, loss=[145208.10939339]\n",
      "||d|| = 1.9187783468187753\n",
      "Current iteration=7000, loss=[146152.15283906]\n",
      "||d|| = 2.459796747743006\n",
      "Current iteration=8000, loss=[143824.63753407]\n",
      "||d|| = 5.010612293545735\n",
      "Current iteration=9000, loss=[143568.34335933]\n",
      "||d|| = 6.107202839879983\n",
      "Current iteration=10000, loss=[143349.68148458]\n",
      "||d|| = 2.809704416125998\n",
      "Current iteration=11000, loss=[143309.86819708]\n",
      "||d|| = 6.417065425933975\n",
      "Current iteration=12000, loss=[142711.73528632]\n",
      "||d|| = 2.0255473991526016\n",
      "Current iteration=13000, loss=[143265.10534446]\n",
      "||d|| = 2.0438165905100503\n",
      "Current iteration=14000, loss=[142731.52251128]\n",
      "||d|| = 2.212016702848783\n",
      "Current iteration=15000, loss=[142252.6646934]\n",
      "||d|| = 1.5946052542270122\n",
      "Current iteration=16000, loss=[142388.59204932]\n",
      "||d|| = 0.9621333218697979\n",
      "Current iteration=17000, loss=[141980.72537714]\n",
      "||d|| = 3.9478821642186737\n",
      "Current iteration=18000, loss=[142508.23465657]\n",
      "||d|| = 2.690355951138116\n",
      "Current iteration=19000, loss=[141507.73952714]\n",
      "||d|| = 2.6162301310378444\n",
      "loss=[141398.94468713]\n"
     ]
    }
   ],
   "source": [
    "initial_w = np.zeros((tx.shape[1], 1))\n",
    "\n",
    "w, tr_loss = reg_logistic_regression(y, tx, initial_w, 0, 20000, 0.01, method='sgd', ratio=0.5)"
   ]
  },
  {
   "cell_type": "markdown",
   "metadata": {},
   "source": [
    "Result with gamma = 0.001 and 100k iter ||d|| = 0.8317845119149855 loss = 137795.11103903, test set accuracy = 0.67216\n",
    "\n",
    "Result with gamma = 0.01 and 100k iter ||d|| = 0.44937032966833224 loss = [138897.157523], test set accuracy = 0.67562\n",
    "\n",
    "---\n",
    "\n",
    "Robbins-Monroe | Result with degree = 3, gamma = 0.0004 and 10k iter loss = [155654.57878558], test set accuracy = 0.65524\n",
    "\n",
    "Robbins-Monroe | Result with degree = 3, gamma = 0.0004 and 10k iter loss = [155654.57878558], test set accuracy = 0.65534\n",
    "\n",
    "Robbins-Monroe | Result with quadratic, gamma = 0.0004 and 10k iter loss = [155654.57878558], test set accuracy = 0.6554\n",
    "\n",
    "---\n",
    "\n",
    "Robbins-Monroe | quadratic, gamma = 0.01, ratio = 0.5, 5k iter | loss = [145324.28779927], test set accuracy = 0.6589\n",
    "\n",
    "Robbins-Monroe | quadratic, gamma = 0.01, ratio = 0.5, 10k iter | loss = [143340.81035078], test set accuracy = 0.6616\n",
    "\n",
    "Robbins-Monroe | quadratic, gamma = 0.01, ratio = 0.5, 20k iter | loss = [141398.94468713], test set accuracy = 0.66362"
   ]
  },
  {
   "cell_type": "code",
   "execution_count": 14,
   "metadata": {},
   "outputs": [],
   "source": [
    "y_sub, x_sub_raw, ids_sub = load_csv_data('data/test.csv')"
   ]
  },
  {
   "cell_type": "code",
   "execution_count": 15,
   "metadata": {},
   "outputs": [],
   "source": [
    "# build mask\n",
    "mask = [x in curr_cols for x in range(init_col_n)]"
   ]
  },
  {
   "cell_type": "code",
   "execution_count": 16,
   "metadata": {},
   "outputs": [],
   "source": [
    "x_sub = x_sub_raw[:, mask]\n",
    "tx_sub = np.c_[np.ones((y_sub.shape[0], 1)), x_sub]\n",
    "tx_sub = tx = build_poly_matrix_quadratic(tx_sub)\n",
    "y_sub = predict_labels(w, tx_sub)"
   ]
  },
  {
   "cell_type": "code",
   "execution_count": 17,
   "metadata": {},
   "outputs": [],
   "source": [
    "create_csv_submission(ids_sub, y_sub, 'submissions/10-24.00-15.csv')"
   ]
  },
  {
   "cell_type": "code",
   "execution_count": 18,
   "metadata": {},
   "outputs": [
    {
     "data": {
      "text/plain": [
       "0.66362"
      ]
     },
     "execution_count": 18,
     "metadata": {},
     "output_type": "execute_result"
    }
   ],
   "source": [
    "y_pred = predict_labels(w, tx_test)\n",
    "\n",
    "(y_pred == y_test).sum() / y_test.shape[0]"
   ]
  }
 ],
 "metadata": {
  "file_extension": ".py",
  "kernelspec": {
   "display_name": "Python 3",
   "language": "python",
   "name": "python3"
  },
  "language_info": {
   "codemirror_mode": {
    "name": "ipython",
    "version": 3
   },
   "file_extension": ".py",
   "mimetype": "text/x-python",
   "name": "python",
   "nbconvert_exporter": "python",
   "pygments_lexer": "ipython3",
   "version": "3.7.4"
  },
  "mimetype": "text/x-python",
  "name": "python",
  "npconvert_exporter": "python",
  "pygments_lexer": "ipython3",
  "version": 3
 },
 "nbformat": 4,
 "nbformat_minor": 4
}
