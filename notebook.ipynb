{
 "cells": [
  {
   "cell_type": "code",
   "execution_count": 1,
   "metadata": {
    "pycharm": {
     "is_executing": false
    }
   },
   "outputs": [],
   "source": [
    "import matplotlib.pyplot as plt\n",
    "import numpy as np\n",
    "import pandas as pd"
   ]
  },
  {
   "cell_type": "code",
   "execution_count": 2,
   "metadata": {
    "pycharm": {
     "is_executing": false
    }
   },
   "outputs": [
    {
     "name": "stdout",
     "text": [
      "Total size: 250000\n"
     ],
     "output_type": "stream"
    },
    {
     "data": {
      "text/plain": "       Id Prediction  DER_mass_MMC  DER_mass_transverse_met_lep  DER_mass_vis  \\\n0  100000          s       138.470                       51.655        97.827   \n1  100001          b       160.937                       68.768       103.235   \n2  100002          b      -999.000                      162.172       125.953   \n3  100003          b       143.905                       81.417        80.943   \n4  100004          b       175.864                       16.915       134.805   \n\n   DER_pt_h  DER_deltaeta_jet_jet  DER_mass_jet_jet  DER_prodeta_jet_jet  \\\n0    27.980                  0.91           124.711                2.666   \n1    48.146               -999.00          -999.000             -999.000   \n2    35.635               -999.00          -999.000             -999.000   \n3     0.414               -999.00          -999.000             -999.000   \n4    16.405               -999.00          -999.000             -999.000   \n\n   DER_deltar_tau_lep  ...  PRI_met_phi  PRI_met_sumet  PRI_jet_num  \\\n0               3.064  ...       -0.277        258.733            2   \n1               3.473  ...       -1.916        164.546            1   \n2               3.148  ...       -2.186        260.414            1   \n3               3.310  ...        0.060         86.062            0   \n4               3.891  ...       -0.871         53.131            0   \n\n   PRI_jet_leading_pt  PRI_jet_leading_eta  PRI_jet_leading_phi  \\\n0              67.435                2.150                0.444   \n1              46.226                0.725                1.158   \n2              44.251                2.053               -2.028   \n3            -999.000             -999.000             -999.000   \n4            -999.000             -999.000             -999.000   \n\n   PRI_jet_subleading_pt  PRI_jet_subleading_eta  PRI_jet_subleading_phi  \\\n0                 46.062                    1.24                  -2.475   \n1               -999.000                 -999.00                -999.000   \n2               -999.000                 -999.00                -999.000   \n3               -999.000                 -999.00                -999.000   \n4               -999.000                 -999.00                -999.000   \n\n   PRI_jet_all_pt  \n0         113.497  \n1          46.226  \n2          44.251  \n3           0.000  \n4           0.000  \n\n[5 rows x 32 columns]",
      "text/html": "<div>\n<style scoped>\n    .dataframe tbody tr th:only-of-type {\n        vertical-align: middle;\n    }\n\n    .dataframe tbody tr th {\n        vertical-align: top;\n    }\n\n    .dataframe thead th {\n        text-align: right;\n    }\n</style>\n<table border=\"1\" class=\"dataframe\">\n  <thead>\n    <tr style=\"text-align: right;\">\n      <th></th>\n      <th>Id</th>\n      <th>Prediction</th>\n      <th>DER_mass_MMC</th>\n      <th>DER_mass_transverse_met_lep</th>\n      <th>DER_mass_vis</th>\n      <th>DER_pt_h</th>\n      <th>DER_deltaeta_jet_jet</th>\n      <th>DER_mass_jet_jet</th>\n      <th>DER_prodeta_jet_jet</th>\n      <th>DER_deltar_tau_lep</th>\n      <th>...</th>\n      <th>PRI_met_phi</th>\n      <th>PRI_met_sumet</th>\n      <th>PRI_jet_num</th>\n      <th>PRI_jet_leading_pt</th>\n      <th>PRI_jet_leading_eta</th>\n      <th>PRI_jet_leading_phi</th>\n      <th>PRI_jet_subleading_pt</th>\n      <th>PRI_jet_subleading_eta</th>\n      <th>PRI_jet_subleading_phi</th>\n      <th>PRI_jet_all_pt</th>\n    </tr>\n  </thead>\n  <tbody>\n    <tr>\n      <td>0</td>\n      <td>100000</td>\n      <td>s</td>\n      <td>138.470</td>\n      <td>51.655</td>\n      <td>97.827</td>\n      <td>27.980</td>\n      <td>0.91</td>\n      <td>124.711</td>\n      <td>2.666</td>\n      <td>3.064</td>\n      <td>...</td>\n      <td>-0.277</td>\n      <td>258.733</td>\n      <td>2</td>\n      <td>67.435</td>\n      <td>2.150</td>\n      <td>0.444</td>\n      <td>46.062</td>\n      <td>1.24</td>\n      <td>-2.475</td>\n      <td>113.497</td>\n    </tr>\n    <tr>\n      <td>1</td>\n      <td>100001</td>\n      <td>b</td>\n      <td>160.937</td>\n      <td>68.768</td>\n      <td>103.235</td>\n      <td>48.146</td>\n      <td>-999.00</td>\n      <td>-999.000</td>\n      <td>-999.000</td>\n      <td>3.473</td>\n      <td>...</td>\n      <td>-1.916</td>\n      <td>164.546</td>\n      <td>1</td>\n      <td>46.226</td>\n      <td>0.725</td>\n      <td>1.158</td>\n      <td>-999.000</td>\n      <td>-999.00</td>\n      <td>-999.000</td>\n      <td>46.226</td>\n    </tr>\n    <tr>\n      <td>2</td>\n      <td>100002</td>\n      <td>b</td>\n      <td>-999.000</td>\n      <td>162.172</td>\n      <td>125.953</td>\n      <td>35.635</td>\n      <td>-999.00</td>\n      <td>-999.000</td>\n      <td>-999.000</td>\n      <td>3.148</td>\n      <td>...</td>\n      <td>-2.186</td>\n      <td>260.414</td>\n      <td>1</td>\n      <td>44.251</td>\n      <td>2.053</td>\n      <td>-2.028</td>\n      <td>-999.000</td>\n      <td>-999.00</td>\n      <td>-999.000</td>\n      <td>44.251</td>\n    </tr>\n    <tr>\n      <td>3</td>\n      <td>100003</td>\n      <td>b</td>\n      <td>143.905</td>\n      <td>81.417</td>\n      <td>80.943</td>\n      <td>0.414</td>\n      <td>-999.00</td>\n      <td>-999.000</td>\n      <td>-999.000</td>\n      <td>3.310</td>\n      <td>...</td>\n      <td>0.060</td>\n      <td>86.062</td>\n      <td>0</td>\n      <td>-999.000</td>\n      <td>-999.000</td>\n      <td>-999.000</td>\n      <td>-999.000</td>\n      <td>-999.00</td>\n      <td>-999.000</td>\n      <td>0.000</td>\n    </tr>\n    <tr>\n      <td>4</td>\n      <td>100004</td>\n      <td>b</td>\n      <td>175.864</td>\n      <td>16.915</td>\n      <td>134.805</td>\n      <td>16.405</td>\n      <td>-999.00</td>\n      <td>-999.000</td>\n      <td>-999.000</td>\n      <td>3.891</td>\n      <td>...</td>\n      <td>-0.871</td>\n      <td>53.131</td>\n      <td>0</td>\n      <td>-999.000</td>\n      <td>-999.000</td>\n      <td>-999.000</td>\n      <td>-999.000</td>\n      <td>-999.00</td>\n      <td>-999.000</td>\n      <td>0.000</td>\n    </tr>\n  </tbody>\n</table>\n<p>5 rows × 32 columns</p>\n</div>"
     },
     "metadata": {},
     "output_type": "execute_result",
     "execution_count": 2
    }
   ],
   "source": [
    "# Import data\n",
    "filename = 'data/train.csv'\n",
    "raw_df = pd.read_csv(filename)\n",
    "\n",
    "size = raw_df.shape[0]\n",
    "print('Total size: ' + str(size))\n",
    "\n",
    "raw_df.head()"
   ]
  },
  {
   "cell_type": "code",
   "execution_count": 3,
   "metadata": {
    "pycharm": {
     "is_executing": false
    }
   },
   "outputs": [],
   "source": [
    "def compute_missing_values(df, column_name):\n",
    "    \n",
    "    column = df[column_name].to_numpy()\n",
    "\n",
    "    return column[np.where(column == -999.0)].shape[0]"
   ]
  },
  {
   "cell_type": "code",
   "execution_count": 4,
   "metadata": {
    "pycharm": {
     "is_executing": false
    }
   },
   "outputs": [
    {
     "name": "stdout",
     "text": [
      "DER_mass_MMC is missing 38114 values, with a percentage of 0.152456\nDER_mass_transverse_met_lep is missing 0 values, with a percentage of 0.0\nDER_mass_vis is missing 0 values, with a percentage of 0.0\nDER_pt_h is missing 0 values, with a percentage of 0.0\nDER_deltaeta_jet_jet is missing 177457 values, with a percentage of 0.709828\nDER_mass_jet_jet is missing 177457 values, with a percentage of 0.709828\nDER_prodeta_jet_jet is missing 177457 values, with a percentage of 0.709828\nDER_deltar_tau_lep is missing 0 values, with a percentage of 0.0\nDER_pt_tot is missing 0 values, with a percentage of 0.0\nDER_sum_pt is missing 0 values, with a percentage of 0.0\nDER_pt_ratio_lep_tau is missing 0 values, with a percentage of 0.0\nDER_met_phi_centrality is missing 0 values, with a percentage of 0.0\nDER_lep_eta_centrality is missing 177457 values, with a percentage of 0.709828\nPRI_tau_pt is missing 0 values, with a percentage of 0.0\nPRI_tau_eta is missing 0 values, with a percentage of 0.0\nPRI_tau_phi is missing 0 values, with a percentage of 0.0\nPRI_lep_pt is missing 0 values, with a percentage of 0.0\nPRI_lep_eta is missing 0 values, with a percentage of 0.0\nPRI_lep_phi is missing 0 values, with a percentage of 0.0\nPRI_met is missing 0 values, with a percentage of 0.0\nPRI_met_phi is missing 0 values, with a percentage of 0.0\nPRI_met_sumet is missing 0 values, with a percentage of 0.0\nPRI_jet_num is missing 0 values, with a percentage of 0.0\nPRI_jet_leading_pt is missing 99913 values, with a percentage of 0.399652\nPRI_jet_leading_eta is missing 99913 values, with a percentage of 0.399652\nPRI_jet_leading_phi is missing 99913 values, with a percentage of 0.399652\nPRI_jet_subleading_pt is missing 177457 values, with a percentage of 0.709828\nPRI_jet_subleading_eta is missing 177457 values, with a percentage of 0.709828\nPRI_jet_subleading_phi is missing 177457 values, with a percentage of 0.709828\nPRI_jet_all_pt is missing 0 values, with a percentage of 0.0\n"
     ],
     "output_type": "stream"
    }
   ],
   "source": [
    "for column in raw_df.columns[2:]:\n",
    "    n_nan = compute_missing_values(raw_df, column)\n",
    "    rel_nan = n_nan / size\n",
    "    \n",
    "    print('{column} is missing {n_nan} values, with a percentage of {rel_nan}'\n",
    "              .format(column=column, n_nan=n_nan, rel_nan=rel_nan)\n",
    "         )"
   ]
  },
  {
   "cell_type": "markdown",
   "metadata": {},
   "source": [
    "We can see that several features have high percentages of missing values (> 40%), then we start by training the data without those features. Based on the information we will understand, we will next decide how to treat the `DER_mass_MMC` feature, which is missing ~15% of the values."
   ]
  },
  {
   "cell_type": "code",
   "execution_count": 5,
   "metadata": {
    "pycharm": {
     "is_executing": false
    }
   },
   "outputs": [],
   "source": [
    "def nan_columns(df):\n",
    "    \n",
    "    columns = []\n",
    "      \n",
    "    for column in df.columns[2:]:\n",
    "        n_nan = compute_missing_values(df, column)\n",
    "        rel_nan = n_nan / size\n",
    "\n",
    "        if rel_nan > 0.3:\n",
    "            columns.append(column)\n",
    "    \n",
    "    return columns"
   ]
  },
  {
   "cell_type": "code",
   "execution_count": 6,
   "metadata": {
    "pycharm": {
     "is_executing": false
    }
   },
   "outputs": [
    {
     "data": {
      "text/plain": "       Id Prediction  DER_mass_MMC  DER_mass_transverse_met_lep  DER_mass_vis  \\\n0  100000          s       138.470                       51.655        97.827   \n1  100001          b       160.937                       68.768       103.235   \n2  100002          b      -999.000                      162.172       125.953   \n3  100003          b       143.905                       81.417        80.943   \n4  100004          b       175.864                       16.915       134.805   \n\n   DER_pt_h  DER_deltar_tau_lep  DER_pt_tot  DER_sum_pt  DER_pt_ratio_lep_tau  \\\n0    27.980               3.064      41.928     197.760                 1.582   \n1    48.146               3.473       2.078     125.157                 0.879   \n2    35.635               3.148       9.336     197.814                 3.776   \n3     0.414               3.310       0.414      75.968                 2.354   \n4    16.405               3.891      16.405      57.983                 1.056   \n\n   ...  PRI_tau_eta  PRI_tau_phi  PRI_lep_pt  PRI_lep_eta  PRI_lep_phi  \\\n0  ...        1.017        0.381      51.626        2.273       -2.414   \n1  ...        2.039       -3.011      36.918        0.501        0.103   \n2  ...       -0.705       -2.093     121.409       -0.953        1.052   \n3  ...       -1.655        0.010      53.321       -0.522       -3.100   \n4  ...       -2.197       -2.231      29.774        0.798        1.569   \n\n   PRI_met  PRI_met_phi  PRI_met_sumet  PRI_jet_num  PRI_jet_all_pt  \n0   16.824       -0.277        258.733            2         113.497  \n1   44.704       -1.916        164.546            1          46.226  \n2   54.283       -2.186        260.414            1          44.251  \n3   31.082        0.060         86.062            0           0.000  \n4    2.723       -0.871         53.131            0           0.000  \n\n[5 rows x 22 columns]",
      "text/html": "<div>\n<style scoped>\n    .dataframe tbody tr th:only-of-type {\n        vertical-align: middle;\n    }\n\n    .dataframe tbody tr th {\n        vertical-align: top;\n    }\n\n    .dataframe thead th {\n        text-align: right;\n    }\n</style>\n<table border=\"1\" class=\"dataframe\">\n  <thead>\n    <tr style=\"text-align: right;\">\n      <th></th>\n      <th>Id</th>\n      <th>Prediction</th>\n      <th>DER_mass_MMC</th>\n      <th>DER_mass_transverse_met_lep</th>\n      <th>DER_mass_vis</th>\n      <th>DER_pt_h</th>\n      <th>DER_deltar_tau_lep</th>\n      <th>DER_pt_tot</th>\n      <th>DER_sum_pt</th>\n      <th>DER_pt_ratio_lep_tau</th>\n      <th>...</th>\n      <th>PRI_tau_eta</th>\n      <th>PRI_tau_phi</th>\n      <th>PRI_lep_pt</th>\n      <th>PRI_lep_eta</th>\n      <th>PRI_lep_phi</th>\n      <th>PRI_met</th>\n      <th>PRI_met_phi</th>\n      <th>PRI_met_sumet</th>\n      <th>PRI_jet_num</th>\n      <th>PRI_jet_all_pt</th>\n    </tr>\n  </thead>\n  <tbody>\n    <tr>\n      <td>0</td>\n      <td>100000</td>\n      <td>s</td>\n      <td>138.470</td>\n      <td>51.655</td>\n      <td>97.827</td>\n      <td>27.980</td>\n      <td>3.064</td>\n      <td>41.928</td>\n      <td>197.760</td>\n      <td>1.582</td>\n      <td>...</td>\n      <td>1.017</td>\n      <td>0.381</td>\n      <td>51.626</td>\n      <td>2.273</td>\n      <td>-2.414</td>\n      <td>16.824</td>\n      <td>-0.277</td>\n      <td>258.733</td>\n      <td>2</td>\n      <td>113.497</td>\n    </tr>\n    <tr>\n      <td>1</td>\n      <td>100001</td>\n      <td>b</td>\n      <td>160.937</td>\n      <td>68.768</td>\n      <td>103.235</td>\n      <td>48.146</td>\n      <td>3.473</td>\n      <td>2.078</td>\n      <td>125.157</td>\n      <td>0.879</td>\n      <td>...</td>\n      <td>2.039</td>\n      <td>-3.011</td>\n      <td>36.918</td>\n      <td>0.501</td>\n      <td>0.103</td>\n      <td>44.704</td>\n      <td>-1.916</td>\n      <td>164.546</td>\n      <td>1</td>\n      <td>46.226</td>\n    </tr>\n    <tr>\n      <td>2</td>\n      <td>100002</td>\n      <td>b</td>\n      <td>-999.000</td>\n      <td>162.172</td>\n      <td>125.953</td>\n      <td>35.635</td>\n      <td>3.148</td>\n      <td>9.336</td>\n      <td>197.814</td>\n      <td>3.776</td>\n      <td>...</td>\n      <td>-0.705</td>\n      <td>-2.093</td>\n      <td>121.409</td>\n      <td>-0.953</td>\n      <td>1.052</td>\n      <td>54.283</td>\n      <td>-2.186</td>\n      <td>260.414</td>\n      <td>1</td>\n      <td>44.251</td>\n    </tr>\n    <tr>\n      <td>3</td>\n      <td>100003</td>\n      <td>b</td>\n      <td>143.905</td>\n      <td>81.417</td>\n      <td>80.943</td>\n      <td>0.414</td>\n      <td>3.310</td>\n      <td>0.414</td>\n      <td>75.968</td>\n      <td>2.354</td>\n      <td>...</td>\n      <td>-1.655</td>\n      <td>0.010</td>\n      <td>53.321</td>\n      <td>-0.522</td>\n      <td>-3.100</td>\n      <td>31.082</td>\n      <td>0.060</td>\n      <td>86.062</td>\n      <td>0</td>\n      <td>0.000</td>\n    </tr>\n    <tr>\n      <td>4</td>\n      <td>100004</td>\n      <td>b</td>\n      <td>175.864</td>\n      <td>16.915</td>\n      <td>134.805</td>\n      <td>16.405</td>\n      <td>3.891</td>\n      <td>16.405</td>\n      <td>57.983</td>\n      <td>1.056</td>\n      <td>...</td>\n      <td>-2.197</td>\n      <td>-2.231</td>\n      <td>29.774</td>\n      <td>0.798</td>\n      <td>1.569</td>\n      <td>2.723</td>\n      <td>-0.871</td>\n      <td>53.131</td>\n      <td>0</td>\n      <td>0.000</td>\n    </tr>\n  </tbody>\n</table>\n<p>5 rows × 22 columns</p>\n</div>"
     },
     "metadata": {},
     "output_type": "execute_result",
     "execution_count": 6
    }
   ],
   "source": [
    "columns = nan_columns(raw_df)\n",
    "\n",
    "clean_df = raw_df.drop(columns, axis=1)\n",
    "        \n",
    "clean_df.head()"
   ]
  },
  {
   "cell_type": "code",
   "execution_count": null,
   "metadata": {},
   "outputs": [],
   "source": []
  }
 ],
 "metadata": {
  "kernelspec": {
   "display_name": "Python 3",
   "language": "python",
   "name": "python3"
  },
  "language_info": {
   "codemirror_mode": {
    "name": "ipython",
    "version": 3
   },
   "file_extension": ".py",
   "mimetype": "text/x-python",
   "name": "python",
   "nbconvert_exporter": "python",
   "pygments_lexer": "ipython3",
   "version": "3.6.8"
  },
  "pycharm": {
   "stem_cell": {
    "cell_type": "raw",
    "source": [],
    "metadata": {
     "collapsed": false
    }
   }
  }
 },
 "nbformat": 4,
 "nbformat_minor": 4
}