{
 "cells": [
  {
   "cell_type": "code",
   "execution_count": 1,
   "metadata": {},
   "outputs": [],
   "source": [
    "import sys\n",
    "sys.path.append('..')\n",
    "\n",
    "import numpy as np\n",
    "from src.helpers import load_csv_data, standardize, remove_incomplete_columns, predict_labels, create_csv_submission\n",
    "from src.logistic.implementations import logistic_regression\n",
    "from src.logistic.loss import compute_loss\n",
    "from src.logistic.not_req_impl import reg_logistic_regression, gradient_descent_step\n",
    "from src.logistic.gradient import compute_gradient\n",
    "from src.split import split_data\n",
    "\n",
    "from src.logistic.sigmoid import sigmoid\n",
    "from src.helpers import remove_correlated_columns\n",
    "from src.polynomials import build_poly_matrix_quadratic\n",
    "\n",
    "%reload_ext autoreload\n",
    "%autoreload 2"
   ]
  },
  {
   "cell_type": "code",
   "execution_count": 2,
   "metadata": {},
   "outputs": [
    {
     "data": {
      "text/plain": [
       "30"
      ]
     },
     "execution_count": 2,
     "metadata": {},
     "output_type": "execute_result"
    }
   ],
   "source": [
    "# Import data\n",
    "y, x_raw, ids = load_csv_data('data/train.csv')\n",
    "init_col_n = x_raw.shape[1]\n",
    "init_col_n"
   ]
  },
  {
   "cell_type": "code",
   "execution_count": 3,
   "metadata": {},
   "outputs": [],
   "source": [
    "# create list of columns indices\n",
    "curr_cols = list(range(x_raw.shape[1]))\n",
    "\n",
    "def rem_cols(lst, mask):\n",
    "    for c,x in enumerate(mask):\n",
    "        if not x:\n",
    "            lst.remove(c)"
   ]
  },
  {
   "cell_type": "code",
   "execution_count": 4,
   "metadata": {},
   "outputs": [],
   "source": [
    "# Clean the data\n",
    "x, kept_columns = remove_incomplete_columns(x_raw)\n",
    "rem_cols(curr_cols, kept_columns)"
   ]
  },
  {
   "cell_type": "code",
   "execution_count": 5,
   "metadata": {},
   "outputs": [
    {
     "data": {
      "text/plain": [
       "[0, 1, 2, 3, 7, 8, 9, 10, 11, 13, 14, 15, 16, 17, 18, 19, 20, 21, 22, 29]"
      ]
     },
     "execution_count": 5,
     "metadata": {},
     "output_type": "execute_result"
    }
   ],
   "source": [
    "curr_cols"
   ]
  },
  {
   "cell_type": "code",
   "execution_count": 6,
   "metadata": {},
   "outputs": [
    {
     "name": "stdout",
     "output_type": "stream",
     "text": [
      "[[ 138.47    51.655   97.827 ...  258.733    2.     113.497]\n",
      " [ 160.937   68.768  103.235 ...  164.546    1.      46.226]\n",
      " [-999.     162.172  125.953 ...  260.414    1.      44.251]\n",
      " ...\n",
      " [ 105.457   60.526   75.839 ...  198.907    1.      41.992]\n",
      " [  94.951   19.362   68.812 ...  112.718    0.       0.   ]\n",
      " [-999.      72.756   70.831 ...   99.405    0.       0.   ]]\n"
     ]
    }
   ],
   "source": [
    "print(x)"
   ]
  },
  {
   "cell_type": "code",
   "execution_count": 7,
   "metadata": {},
   "outputs": [],
   "source": [
    "x, kept_columns_2 = remove_correlated_columns(x)\n",
    "rem_cols(curr_cols, kept_columns_2)"
   ]
  },
  {
   "cell_type": "code",
   "execution_count": 8,
   "metadata": {},
   "outputs": [
    {
     "data": {
      "text/plain": [
       "array([ True,  True,  True,  True,  True,  True,  True,  True,  True,\n",
       "        True,  True,  True,  True,  True,  True,  True,  True, False,\n",
       "        True, False])"
      ]
     },
     "execution_count": 8,
     "metadata": {},
     "output_type": "execute_result"
    }
   ],
   "source": [
    "kept_columns_2"
   ]
  },
  {
   "cell_type": "code",
   "execution_count": 9,
   "metadata": {},
   "outputs": [
    {
     "data": {
      "text/plain": [
       "[0, 1, 2, 3, 7, 8, 9, 10, 11, 13, 14, 15, 16, 18, 20, 21, 22, 29]"
      ]
     },
     "execution_count": 9,
     "metadata": {},
     "output_type": "execute_result"
    }
   ],
   "source": [
    "curr_cols"
   ]
  },
  {
   "cell_type": "code",
   "execution_count": 10,
   "metadata": {},
   "outputs": [
    {
     "name": "stdout",
     "output_type": "stream",
     "text": [
      "6.329\n",
      "0.0\n",
      "0.208\n",
      "46.104\n",
      "0.047\n",
      "-1.414\n",
      "-2.499\n",
      "-2.505\n",
      "-3.142\n"
     ]
    }
   ],
   "source": [
    "# log transform\n",
    "to_log_cols_idxs = [2, 3, 4, 6, 7, 8, 10, 13, 16]\n",
    "for i in to_log_cols_idxs:\n",
    "    print(x[:,i].min())\n",
    "    x[:,i] = np.apply_along_axis(lambda n: np.log(1 + abs(x[:,i].min()) + n), 0, x[:,i])"
   ]
  },
  {
   "cell_type": "code",
   "execution_count": 11,
   "metadata": {},
   "outputs": [],
   "source": [
    "# Transform y for logistic regression\n",
    "y[np.where(y == -1)] = 0"
   ]
  },
  {
   "cell_type": "code",
   "execution_count": 12,
   "metadata": {},
   "outputs": [],
   "source": [
    "# Standardize x and add the 1s column\n",
    "x, mean_x, std_x = standardize(x)\n",
    "tx = np.c_[np.ones((y.shape[0], 1)), x]"
   ]
  },
  {
   "cell_type": "code",
   "execution_count": 13,
   "metadata": {},
   "outputs": [],
   "source": [
    "# poly\n",
    "tx = build_poly_matrix_quadratic(tx)"
   ]
  },
  {
   "cell_type": "code",
   "execution_count": 14,
   "metadata": {},
   "outputs": [],
   "source": [
    "# Split the data\n",
    "tx_train, y_train, tx_test, y_test = split_data(tx, y, 0.8)"
   ]
  },
  {
   "cell_type": "code",
   "execution_count": 15,
   "metadata": {},
   "outputs": [
    {
     "name": "stdout",
     "output_type": "stream",
     "text": [
      "Current iteration=0, loss=[173286.79513999]\n",
      "||d|| = 3.443337520133352\n",
      "Current iteration=1000, loss=[169331.57214641]\n",
      "||d|| = 8.587969507816975\n",
      "Current iteration=2000, loss=[140566.09295898]\n",
      "||d|| = 3.4237780837681195\n",
      "Current iteration=3000, loss=[139128.99164782]\n",
      "||d|| = 3.3300413210784403\n",
      "Current iteration=4000, loss=[142754.26234536]\n",
      "||d|| = 2.0571933740014594\n",
      "Current iteration=5000, loss=[133270.19730013]\n",
      "||d|| = 6.575845170786087\n",
      "Current iteration=6000, loss=[134135.57444219]\n",
      "||d|| = 5.557606082362086\n",
      "Current iteration=7000, loss=[132673.5156465]\n",
      "||d|| = 2.2204047658010806\n",
      "Current iteration=8000, loss=[133118.57044955]\n",
      "||d|| = 0.8498772901081524\n",
      "Current iteration=9000, loss=[137660.72928189]\n",
      "||d|| = 6.426500209839358\n",
      "loss=[132741.37886452]\n"
     ]
    }
   ],
   "source": [
    "initial_w = np.zeros((tx.shape[1], 1))\n",
    "\n",
    "w, tr_loss = reg_logistic_regression(y, tx, initial_w, 0, 10000, 0.05, method='sgd', ratio=0.5)"
   ]
  },
  {
   "cell_type": "markdown",
   "metadata": {},
   "source": [
    "Result with gamma = 0.01 and 100k iter ||d|| = 0.44937032966833224 loss = [138897.157523], test set accuracy = 0.67562\n",
    "\n",
    "---\n",
    "\n",
    "Robbins-Monroe | Result with degree = 3, gamma = 0.0004 and 10k iter loss = [155654.57878558], test set accuracy = 0.65534\n",
    "\n",
    "Robbins-Monroe | Result with quadratic, gamma = 0.0004 and 10k iter loss = [155654.57878558], test set accuracy = 0.6554\n",
    "\n",
    "---\n",
    "\n",
    "Robbins-Monroe | quadratic, gamma = 0.01, ratio = 0.5, 10k iter | loss = [143340.81035078], test set accuracy = 0.6616\n",
    "\n",
    "---\n",
    "\n",
    "logistic w/ RM, log, quadratic | gamma = 0.01, ratio = 0.5, 10k iter | loss = [137580.1845174], test set accuracy = 0.69154\n",
    "\n",
    "logistic w/ RM, log, quadratic | gamma = 0.05, ratio = 0.5, 10k iter | loss = [132741.37886452], test set accuracy = 0.74846"
   ]
  },
  {
   "cell_type": "code",
   "execution_count": 16,
   "metadata": {},
   "outputs": [],
   "source": [
    "y_sub, x_sub_raw, ids_sub = load_csv_data('data/test.csv')"
   ]
  },
  {
   "cell_type": "code",
   "execution_count": 17,
   "metadata": {},
   "outputs": [],
   "source": [
    "# build mask\n",
    "mask = [x in curr_cols for x in range(init_col_n)]"
   ]
  },
  {
   "cell_type": "code",
   "execution_count": 18,
   "metadata": {},
   "outputs": [],
   "source": [
    "x_sub = x_sub_raw[:, mask]\n",
    "tx_sub = np.c_[np.ones((y_sub.shape[0], 1)), x_sub]\n",
    "tx_sub = tx = build_poly_matrix_quadratic(tx_sub)\n",
    "y_sub = predict_labels(w, tx_sub)"
   ]
  },
  {
   "cell_type": "code",
   "execution_count": 19,
   "metadata": {},
   "outputs": [],
   "source": [
    "create_csv_submission(ids_sub, y_sub, 'submissions/10-24.00-15.csv')"
   ]
  },
  {
   "cell_type": "code",
   "execution_count": 20,
   "metadata": {},
   "outputs": [
    {
     "data": {
      "text/plain": [
       "0.74846"
      ]
     },
     "execution_count": 20,
     "metadata": {},
     "output_type": "execute_result"
    }
   ],
   "source": [
    "y_pred = predict_labels(w, tx_test)\n",
    "\n",
    "(y_pred == y_test).sum() / y_test.shape[0]"
   ]
  }
 ],
 "metadata": {
  "file_extension": ".py",
  "kernelspec": {
   "display_name": "Python 3",
   "language": "python",
   "name": "python3"
  },
  "language_info": {
   "codemirror_mode": {
    "name": "ipython",
    "version": 3
   },
   "file_extension": ".py",
   "mimetype": "text/x-python",
   "name": "python",
   "nbconvert_exporter": "python",
   "pygments_lexer": "ipython3",
   "version": "3.7.4"
  },
  "mimetype": "text/x-python",
  "name": "python",
  "npconvert_exporter": "python",
  "pygments_lexer": "ipython3",
  "version": 3
 },
 "nbformat": 4,
 "nbformat_minor": 4
}
