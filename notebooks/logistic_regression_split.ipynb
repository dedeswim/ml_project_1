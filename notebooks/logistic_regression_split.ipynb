{
 "cells": [
  {
   "cell_type": "code",
   "execution_count": 1,
   "metadata": {},
   "outputs": [],
   "source": [
    "import sys\n",
    "sys.path.append('..')\n",
    "\n",
    "import numpy as np\n",
    "from src.helpers import load_csv_data, standardize, flatten_jet_features, predict_labels, create_csv_submission\n",
    "from src.logistic.implementations import logistic_regression\n",
    "from src.logistic.loss import compute_loss\n",
    "from src.logistic.not_req_impl import reg_logistic_regression, gradient_descent_step\n",
    "from src.logistic.gradient import compute_gradient\n",
    "from src.split import split_data\n",
    "from src.polynomials import build_poly_matrix_vandermonde\n",
    "\n",
    "from src.logistic.sigmoid import sigmoid\n",
    "\n",
    "%reload_ext autoreload\n",
    "%autoreload 2"
   ]
  },
  {
   "cell_type": "code",
   "execution_count": 2,
   "metadata": {},
   "outputs": [],
   "source": [
    "# Import data\n",
    "y, x_raw, ids = load_csv_data('../data/train.csv')"
   ]
  },
  {
   "cell_type": "code",
   "execution_count": 7,
   "metadata": {},
   "outputs": [],
   "source": [
    "# Transform y for logistic regression\n",
    "y[np.where(y == -1)] = 0"
   ]
  },
  {
   "cell_type": "code",
   "execution_count": 25,
   "metadata": {},
   "outputs": [],
   "source": [
    "# Standardize x and add the 1s column\n",
    "x, mean_x, std_x = standardize(x_raw)"
   ]
  },
  {
   "cell_type": "code",
   "execution_count": 55,
   "metadata": {},
   "outputs": [],
   "source": [
    "def jet_split(x, y, degree):  \n",
    "    x0, x1, x23 = x[(x[:, 22] == 0)], x[(x[:, 22] == 1)], x[(x[:, 22] == 2) | (x[:, 22] == 3)]\n",
    "    y0, y1, y23 = y[(x[:, 22] == 0)], y[(x[:, 22] == 1)], y[(x[:, 22] == 2) | (x[:, 22] == 3)]\n",
    "    \n",
    "    jet0_indexes = [4, 5, 6, 12, 23, 24, 25, 26, 27, 28]\n",
    "    jet1_indexes = [4, 5, 6, 12, 26, 27, 28]\n",
    "    \n",
    "    x0_rem = np.delete(x0, jet0_indexes, axis=1)\n",
    "    x1_rem = np.delete(x1, jet1_indexes, axis=1)\n",
    "    \n",
    "    x0_std = standardize(x0_rem)[0]\n",
    "    x1_std = standardize(x1_rem)[0]\n",
    "    x23_std = standardize(x23)[0]\n",
    "    \n",
    "    x0_poly = build_poly_matrix_vandermonde(x0_std, degree)    \n",
    "    x1_poly = build_poly_matrix_vandermonde(x1_std, degree)\n",
    "    x23_poly = build_poly_matrix_vandermonde(x23_std, degree)\n",
    "    \n",
    "    tx0 = np.c_[np.ones((y0.shape[0], 1)), x0_poly]\n",
    "    tx1 = np.c_[np.ones((y1.shape[0], 1)), x1_poly]\n",
    "    tx23 = np.c_[np.ones((y23.shape[0], 1)), x23_poly]\n",
    "    \n",
    "    return tx0, tx1, tx23, y0, y1, y23"
   ]
  },
  {
   "cell_type": "code",
   "execution_count": 84,
   "metadata": {},
   "outputs": [],
   "source": [
    "# Create three different sets\n",
    "tx0, tx1, tx23, y0, y1, y23 = jet_split(x_raw, y, 1)"
   ]
  },
  {
   "cell_type": "code",
   "execution_count": 85,
   "metadata": {},
   "outputs": [],
   "source": [
    "# Split the data\n",
    "ratio = 0.8\n",
    "tx0_train, y0_train, tx0_test, y0_test = split_data(tx0, y0, ratio)\n",
    "tx1_train, y1_train, tx1_test, y1_test = split_data(tx1, y1, ratio)\n",
    "tx23_train, y23_train, tx23_test, y23_test = split_data(tx23, y23, ratio)"
   ]
  },
  {
   "cell_type": "code",
   "execution_count": 99,
   "metadata": {},
   "outputs": [],
   "source": [
    "gamma = 0.1\n",
    "iters = 10000\n",
    "lambda_ = 0"
   ]
  },
  {
   "cell_type": "code",
   "execution_count": 100,
   "metadata": {},
   "outputs": [
    {
     "name": "stdout",
     "output_type": "stream",
     "text": [
      "Current iteration=0, loss=[55403.25414216]\n",
      "||d|| = 2.7324669642658286\n",
      "Current iteration=1000, loss=[41830.79565029]\n",
      "||d|| = 0.6879570115959988\n",
      "Current iteration=2000, loss=[41690.83350776]\n",
      "||d|| = 1.5427066289083498\n",
      "Current iteration=3000, loss=[41674.36910082]\n",
      "||d|| = 3.398105300757459\n",
      "Current iteration=4000, loss=[41610.45699836]\n",
      "||d|| = 3.2451107257763967\n",
      "Current iteration=5000, loss=[41591.7873739]\n",
      "||d|| = 1.8018504199484595\n",
      "Current iteration=6000, loss=[41540.57308652]\n",
      "||d|| = 0.597113855636787\n",
      "Current iteration=7000, loss=[41523.27092091]\n",
      "||d|| = 3.3018506774192136\n",
      "Current iteration=8000, loss=[41501.99835543]\n",
      "||d|| = 3.2686977474143335\n",
      "Current iteration=9000, loss=[41488.79746188]\n",
      "||d|| = 0.5429988393579248\n",
      "loss=[41473.85638447]\n"
     ]
    }
   ],
   "source": [
    "initial_w = np.zeros((tx0.shape[1], 1))\n",
    "\n",
    "w0, tr_loss0 = reg_logistic_regression(y0_train, tx0_train, initial_w, lambda_, iters, gamma, method='sgd')"
   ]
  },
  {
   "cell_type": "code",
   "execution_count": 101,
   "metadata": {},
   "outputs": [
    {
     "name": "stdout",
     "output_type": "stream",
     "text": [
      "Current iteration=0, loss=[42999.38534604]\n",
      "||d|| = 2.844322357540556\n",
      "Current iteration=1000, loss=[38296.79092955]\n",
      "||d|| = 2.55456092537108\n",
      "Current iteration=2000, loss=[38122.03463385]\n",
      "||d|| = 3.526360208399795\n",
      "Current iteration=3000, loss=[38141.83027134]\n",
      "||d|| = 2.661227538377066\n",
      "Current iteration=4000, loss=[37985.01491669]\n",
      "||d|| = 3.563433683303491\n",
      "Current iteration=5000, loss=[37963.97422366]\n",
      "||d|| = 3.319494340786066\n",
      "Current iteration=6000, loss=[37899.1330591]\n",
      "||d|| = 1.99703989920449\n",
      "Current iteration=7000, loss=[37873.45684235]\n",
      "||d|| = 1.9373541027900703\n",
      "Current iteration=8000, loss=[37866.58580558]\n",
      "||d|| = 3.4048460217480936\n",
      "Current iteration=9000, loss=[37829.27914076]\n",
      "||d|| = 2.1017452462546005\n",
      "loss=[37900.0503434]\n"
     ]
    }
   ],
   "source": [
    "initial_w = np.zeros((tx1.shape[1], 1))\n",
    "\n",
    "w1, tr_loss1 = reg_logistic_regression(y1_train, tx1_train, initial_w, lambda_, iters, gamma, method='sgd')"
   ]
  },
  {
   "cell_type": "code",
   "execution_count": 102,
   "metadata": {},
   "outputs": [
    {
     "name": "stdout",
     "output_type": "stream",
     "text": [
      "Current iteration=0, loss=[40226.10347662]\n",
      "||d|| = 3.106497919695004\n",
      "Current iteration=1000, loss=[35255.76546146]\n",
      "||d|| = 2.304779896982352\n",
      "Current iteration=2000, loss=[35137.2703897]\n",
      "||d|| = 3.2448625782882954\n",
      "Current iteration=3000, loss=[35078.092544]\n",
      "||d|| = 2.4575150274350737\n",
      "Current iteration=4000, loss=[35319.9623284]\n",
      "||d|| = 1.8464445130855551\n",
      "Current iteration=5000, loss=[35230.16657967]\n",
      "||d|| = 2.9636975559067933\n",
      "Current iteration=6000, loss=[34875.12725833]\n",
      "||d|| = 0.9186356060105719\n",
      "Current iteration=7000, loss=[34860.25135999]\n",
      "||d|| = 5.202261626706678\n",
      "Current iteration=8000, loss=[34821.29173659]\n",
      "||d|| = 1.2689119555751922\n",
      "Current iteration=9000, loss=[34807.01489777]\n",
      "||d|| = 4.483115402909467\n",
      "loss=[34810.52652304]\n"
     ]
    }
   ],
   "source": [
    "initial_w = np.zeros((tx23.shape[1], 1))\n",
    "\n",
    "w23, tr_loss23 = reg_logistic_regression(y23_train, tx23_train, initial_w, lambda_, iters, gamma, method='sgd')"
   ]
  },
  {
   "cell_type": "code",
   "execution_count": 103,
   "metadata": {},
   "outputs": [],
   "source": [
    "y0_pred = predict_labels(w0, tx0_test)\n",
    "\n",
    "acc0 = (y0_pred == y0_test).sum() / y0_test.shape[0]"
   ]
  },
  {
   "cell_type": "code",
   "execution_count": 104,
   "metadata": {},
   "outputs": [],
   "source": [
    "y1_pred = predict_labels(w1, tx1_test)\n",
    "\n",
    "acc1 = (y1_pred == y1_test).sum() / y1_test.shape[0]"
   ]
  },
  {
   "cell_type": "code",
   "execution_count": 105,
   "metadata": {},
   "outputs": [],
   "source": [
    "y23_pred = predict_labels(w23, tx23_test)\n",
    "\n",
    "acc23 = (y23_pred == y23_test).sum() / y23_test.shape[0]"
   ]
  },
  {
   "cell_type": "code",
   "execution_count": 106,
   "metadata": {},
   "outputs": [
    {
     "data": {
      "text/plain": [
       "0.68986"
      ]
     },
     "execution_count": 106,
     "metadata": {},
     "output_type": "execute_result"
    }
   ],
   "source": [
    "(acc0 * y0_test.shape[0] + acc1 * y1_test.shape[0] + acc23 * y23_test.shape[0]) / (y.shape[0] * 0.2)"
   ]
  },
  {
   "cell_type": "markdown",
   "metadata": {},
   "source": [
    "- Result with penalized SGD, gamma = 0.1, lambda = 0.01, degree 2, 10k iter: loss = 115658, test set accuracy = 0.68584\n",
    "- Result with penalized SGD, gamma = 0.1, lambda = 0.01, degree 1, 10k iter: loss = 115658, test set accuracy = 0.68904\n",
    "- Result with SGD, lambda = 0.01, degree 1, 10k iter: loss = 115658, test set accuracy = 0.68986"
   ]
  },
  {
   "cell_type": "code",
   "execution_count": 68,
   "metadata": {},
   "outputs": [],
   "source": [
    "y_sub, x_sub_raw, ids_sub = load_csv_data('../data/test.csv')"
   ]
  },
  {
   "cell_type": "code",
   "execution_count": 70,
   "metadata": {},
   "outputs": [],
   "source": [
    "x_sub = flatten_jet_features(x_sub_raw)\n",
    "tx_sub = np.c_[np.ones((y_sub.shape[0], 1)), x_sub]\n",
    "tx_sub_poly = build_poly_matrix_vandermonde(tx_sub, 2)\n",
    "y_sub = predict_labels(w, tx_sub_poly)"
   ]
  },
  {
   "cell_type": "code",
   "execution_count": 72,
   "metadata": {},
   "outputs": [],
   "source": [
    "create_csv_submission(ids_sub, y_sub, '../submissions/10-24.14-18.csv')"
   ]
  },
  {
   "cell_type": "code",
   "execution_count": null,
   "metadata": {},
   "outputs": [],
   "source": []
  }
 ],
 "metadata": {
  "file_extension": ".py",
  "kernelspec": {
   "display_name": "Python 3",
   "language": "python",
   "name": "python3"
  },
  "language_info": {
   "codemirror_mode": {
    "name": "ipython",
    "version": 3
   },
   "file_extension": ".py",
   "mimetype": "text/x-python",
   "name": "python",
   "nbconvert_exporter": "python",
   "pygments_lexer": "ipython3",
   "version": "3.7.4"
  },
  "mimetype": "text/x-python",
  "name": "python",
  "npconvert_exporter": "python",
  "pygments_lexer": "ipython3",
  "version": 3
 },
 "nbformat": 4,
 "nbformat_minor": 4
}
