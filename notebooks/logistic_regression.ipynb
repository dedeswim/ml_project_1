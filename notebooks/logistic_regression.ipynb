{
 "cells": [
  {
   "cell_type": "code",
   "execution_count": 37,
   "metadata": {},
   "outputs": [],
   "source": [
    "import sys\n",
    "sys.path.append('..')\n",
    "\n",
    "import numpy as np\n",
    "from src.helpers import load_csv_data, standardize, remove_incomplete_columns, predict_labels, create_csv_submission\n",
    "from src.logistic.implementations import logistic_regression\n",
    "from src.logistic.loss import compute_loss\n",
    "from src.logistic.not_req_impl import reg_logistic_regression, gradient_descent_step\n",
    "from src.logistic.gradient import compute_gradient\n",
    "from src.split import split_data\n",
    "\n",
    "from src.logistic.sigmoid import sigmoid\n",
    "\n",
    "%reload_ext autoreload\n",
    "%autoreload 2"
   ]
  },
  {
   "cell_type": "code",
   "execution_count": 12,
   "metadata": {},
   "outputs": [],
   "source": [
    "# Import data\n",
    "y, x_raw, ids = load_csv_data('../data/train.csv')"
   ]
  },
  {
   "cell_type": "code",
   "execution_count": 14,
   "metadata": {},
   "outputs": [],
   "source": [
    "# Clean the data\n",
    "x, kept_columns = remove_incomplete_columns(x_raw)"
   ]
  },
  {
   "cell_type": "code",
   "execution_count": 15,
   "metadata": {},
   "outputs": [
    {
     "data": {
      "text/plain": [
       "array([ True,  True,  True,  True, False, False, False,  True,  True,\n",
       "        True,  True,  True, False,  True,  True,  True,  True,  True,\n",
       "        True,  True,  True,  True,  True, False, False, False, False,\n",
       "       False, False,  True])"
      ]
     },
     "execution_count": 15,
     "metadata": {},
     "output_type": "execute_result"
    }
   ],
   "source": [
    "kept_columns"
   ]
  },
  {
   "cell_type": "code",
   "execution_count": 16,
   "metadata": {},
   "outputs": [],
   "source": [
    "# Transform y for logistic regression\n",
    "y[np.where(y == -1)] = 0"
   ]
  },
  {
   "cell_type": "code",
   "execution_count": 17,
   "metadata": {},
   "outputs": [],
   "source": [
    "# Standardize x and add the 1s column\n",
    "x, mean_x, std_x = standardize(x)\n",
    "tx = np.c_[np.ones((y.shape[0], 1)), x]"
   ]
  },
  {
   "cell_type": "code",
   "execution_count": 18,
   "metadata": {},
   "outputs": [],
   "source": [
    "# Split the data\n",
    "tx_train, y_train, tx_test, y_test = split_data(tx, y, 0.8)"
   ]
  },
  {
   "cell_type": "code",
   "execution_count": null,
   "metadata": {},
   "outputs": [
    {
     "name": "stdout",
     "output_type": "stream",
     "text": [
      "Current iteration=0, loss=[173286.79513999]\n",
      "||d|| = 0.9127409134069878\n",
      "Current iteration=100, loss=[154958.09630973]\n",
      "||d|| = 0.8142576999435608\n",
      "Current iteration=200, loss=[155036.53692035]\n",
      "||d|| = 0.9543905620823595\n",
      "Current iteration=300, loss=[151956.9698921]\n",
      "||d|| = 0.7003121916500041\n",
      "Current iteration=400, loss=[152171.16631661]\n",
      "||d|| = 0.7138316120731767\n",
      "Current iteration=500, loss=[148891.22256581]\n",
      "||d|| = 1.9909493067513162\n",
      "Current iteration=600, loss=[148423.79372522]\n",
      "||d|| = 0.6561252935664129\n",
      "Current iteration=700, loss=[148883.14752543]\n",
      "||d|| = 0.7678460788997196\n",
      "Current iteration=800, loss=[151540.64277583]\n",
      "||d|| = 0.7646803582713233\n",
      "Current iteration=900, loss=[152274.61317462]\n",
      "||d|| = 2.163859042178967\n",
      "Current iteration=1000, loss=[147657.6259977]\n",
      "||d|| = 0.8491680920424386\n",
      "Current iteration=1100, loss=[146584.97622136]\n",
      "||d|| = 0.7660682493354596\n",
      "Current iteration=1200, loss=[146684.83107492]\n",
      "||d|| = 1.2610984889729737\n",
      "Current iteration=1300, loss=[146147.37199171]\n",
      "||d|| = 1.098966550008075\n",
      "Current iteration=1400, loss=[146403.85842043]\n",
      "||d|| = 0.6481292694984498\n",
      "Current iteration=1500, loss=[147259.83597133]\n",
      "||d|| = 2.1578090949431727\n",
      "Current iteration=1600, loss=[146369.69935564]\n",
      "||d|| = 0.9320258374810061\n",
      "Current iteration=1700, loss=[147219.86521619]\n",
      "||d|| = 0.768529978267347\n",
      "Current iteration=1800, loss=[145982.99968728]\n",
      "||d|| = 1.1703544251346965\n",
      "Current iteration=1900, loss=[146556.54938243]\n",
      "||d|| = 1.6301149326171087\n",
      "Current iteration=2000, loss=[145806.33785563]\n",
      "||d|| = 1.2455809367557211\n",
      "Current iteration=2100, loss=[145132.34853686]\n",
      "||d|| = 0.6827270415150359\n",
      "Current iteration=2200, loss=[144660.43657665]\n",
      "||d|| = 0.37230651488538696\n",
      "Current iteration=2300, loss=[144153.41793828]\n",
      "||d|| = 0.885790356100339\n",
      "Current iteration=2400, loss=[146777.09811071]\n",
      "||d|| = 0.752985437701283\n",
      "Current iteration=2500, loss=[143843.53547149]\n",
      "||d|| = 0.6918599855022005\n",
      "Current iteration=2600, loss=[143672.89070907]\n",
      "||d|| = 1.6227022022180744\n",
      "Current iteration=2700, loss=[144939.2597985]\n",
      "||d|| = 1.1236366008815386\n",
      "Current iteration=2800, loss=[143555.72222578]\n",
      "||d|| = 2.2653681925381117\n",
      "Current iteration=2900, loss=[143946.22778155]\n",
      "||d|| = 1.0321809263319908\n",
      "Current iteration=3000, loss=[145359.70446833]\n",
      "||d|| = 1.3812386679935553\n",
      "Current iteration=3100, loss=[142866.49364568]\n",
      "||d|| = 1.5164309919398589\n",
      "Current iteration=3200, loss=[143737.74402252]\n",
      "||d|| = 1.0957520633969415\n",
      "Current iteration=3300, loss=[142535.38727946]\n",
      "||d|| = 1.3275158130446962\n",
      "Current iteration=3400, loss=[143323.14626253]\n",
      "||d|| = 0.9401186321455054\n"
     ]
    }
   ],
   "source": [
    "initial_w = np.zeros((tx.shape[1], 1))\n",
    "\n",
    "w, tr_loss = reg_logistic_regression(y, tx, initial_w, 0, 10000, 0.01, method='sgd')"
   ]
  },
  {
   "cell_type": "code",
   "execution_count": 44,
   "metadata": {},
   "outputs": [
    {
     "name": "stdout",
     "output_type": "stream",
     "text": [
      "10.4 µs ± 67.5 ns per loop (mean ± std. dev. of 7 runs, 100000 loops each)\n"
     ]
    }
   ],
   "source": [
    "x_sgd = np.array([1, 2, 3, 4, 5, 6, 7, 7, 8, 9, 1, 2, 3, 4, 5, 6, 7, 8, 9, 1]).reshape((1, -1))\n",
    "y_sgd = np.array([-1])\n",
    "w_sgd = np.array([1, 1, 1, 1, 1, 1, 1, 1, 1, 1, 1, 1, 1, 1, 1, 1, 1, 1, 1, 1])\n",
    "\n",
    "%timeit compute_gradient(y_sgd, x_sgd, w_sgd)"
   ]
  },
  {
   "cell_type": "code",
   "execution_count": 47,
   "metadata": {},
   "outputs": [
    {
     "name": "stdout",
     "output_type": "stream",
     "text": [
      "41.5 µs ± 1.19 µs per loop (mean ± std. dev. of 7 runs, 10000 loops each)\n"
     ]
    }
   ],
   "source": [
    "%timeit gradient_descent_step(y_sgd, x_sgd, w_sgd, 0.01)"
   ]
  },
  {
   "cell_type": "code",
   "execution_count": 9,
   "metadata": {},
   "outputs": [
    {
     "name": "stdout",
     "output_type": "stream",
     "text": [
      "0.00560667986024832\n"
     ]
    }
   ],
   "source": [
    "te_loss = compute_loss(y_test, tx_test, w)\n",
    "print(te_loss)"
   ]
  },
  {
   "cell_type": "code",
   "execution_count": 10,
   "metadata": {},
   "outputs": [],
   "source": [
    "y_sub, x_sub_raw, ids_sub = load_csv_data('../data/test.csv')"
   ]
  },
  {
   "cell_type": "code",
   "execution_count": 11,
   "metadata": {},
   "outputs": [],
   "source": [
    "x_sub = x_sub_raw[:, kept_columns]\n",
    "tx_sub = np.c_[np.ones((y_sub.shape[0], 1)), x_sub]\n",
    "y_sub = predict_labels(w, tx_sub)"
   ]
  },
  {
   "cell_type": "code",
   "execution_count": 12,
   "metadata": {},
   "outputs": [],
   "source": [
    "create_csv_submission(ids_sub, y_sub, '../submissions/10-20.16-01.csv')"
   ]
  },
  {
   "cell_type": "code",
   "execution_count": null,
   "metadata": {},
   "outputs": [],
   "source": []
  }
 ],
 "metadata": {
  "file_extension": ".py",
  "kernelspec": {
   "display_name": "Py3 ADA",
   "language": "python",
   "name": "py3_ada"
  },
  "language_info": {
   "codemirror_mode": {
    "name": "ipython",
    "version": 3
   },
   "file_extension": ".py",
   "mimetype": "text/x-python",
   "name": "python",
   "nbconvert_exporter": "python",
   "pygments_lexer": "ipython3",
   "version": "3.6.8"
  },
  "mimetype": "text/x-python",
  "name": "python",
  "npconvert_exporter": "python",
  "pygments_lexer": "ipython3",
  "version": 3
 },
 "nbformat": 4,
 "nbformat_minor": 4
}
