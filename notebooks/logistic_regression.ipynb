{
 "cells": [
  {
   "cell_type": "code",
   "execution_count": 114,
   "metadata": {},
   "outputs": [],
   "source": [
    "import sys\n",
    "sys.path.append('..')\n",
    "\n",
    "import numpy as np\n",
    "from src.helpers import load_csv_data, standardize, remove_columns, predict_labels, create_csv_submission\n",
    "from src.logistic.implementations import logistic_regression\n",
    "from src.logistic.loss import compute_loss\n",
    "from src.split import split_data\n",
    "\n",
    "from src.logistic.sigmoid import sigmoid\n",
    "\n",
    "%reload_ext autoreload\n",
    "%autoreload 2"
   ]
  },
  {
   "cell_type": "code",
   "execution_count": 98,
   "metadata": {},
   "outputs": [],
   "source": [
    "# Import data\n",
    "y, x_raw, ids = load_csv_data('../data/train.csv', sub_sample=True)"
   ]
  },
  {
   "cell_type": "code",
   "execution_count": 102,
   "metadata": {},
   "outputs": [],
   "source": [
    "# Clean the data\n",
    "x, kept_columns = remove_columns(x_raw)"
   ]
  },
  {
   "cell_type": "code",
   "execution_count": 108,
   "metadata": {},
   "outputs": [
    {
     "data": {
      "text/plain": [
       "array([ True,  True,  True,  True, False, False, False,  True,  True,\n",
       "        True,  True,  True, False,  True,  True,  True,  True,  True,\n",
       "        True,  True,  True,  True,  True, False, False, False, False,\n",
       "       False, False,  True])"
      ]
     },
     "execution_count": 108,
     "metadata": {},
     "output_type": "execute_result"
    }
   ],
   "source": [
    "kept_columns"
   ]
  },
  {
   "cell_type": "code",
   "execution_count": 62,
   "metadata": {},
   "outputs": [],
   "source": [
    "# Transform y for logistic regression\n",
    "y[np.where(y == -1)] = 0"
   ]
  },
  {
   "cell_type": "code",
   "execution_count": 63,
   "metadata": {},
   "outputs": [],
   "source": [
    "# Standardize x and add the 1s column\n",
    "x, mean_x, std_x = standardize(x)\n",
    "tx = np.c_[np.ones((y.shape[0], 1)), x]"
   ]
  },
  {
   "cell_type": "code",
   "execution_count": 64,
   "metadata": {},
   "outputs": [],
   "source": [
    "# Split the data\n",
    "tx_train, y_train, tx_test, y_test = split_data(tx, y, 0.8)"
   ]
  },
  {
   "cell_type": "code",
   "execution_count": 75,
   "metadata": {},
   "outputs": [
    {
     "name": "stdout",
     "output_type": "stream",
     "text": [
      "Current iteration=0, loss=173.28679513998634\n",
      "||d|| = 128.40074714372167\n",
      "Current iteration=10000, loss=137.13024636740454\n",
      "||d|| = 7.951316954571551\n",
      "Current iteration=20000, loss=133.02245176736926\n",
      "||d|| = 5.1155856634786385\n",
      "Current iteration=30000, loss=131.15012879335947\n",
      "||d|| = 3.630796670451024\n",
      "Current iteration=40000, loss=130.155591126139\n",
      "||d|| = 2.7205822118830634\n",
      "Current iteration=50000, loss=129.5773832555929\n",
      "||d|| = 2.113973904640028\n",
      "Current iteration=60000, loss=129.2184827293122\n",
      "||d|| = 1.691483207359708\n",
      "Current iteration=70000, loss=128.9828478695989\n",
      "||d|| = 1.3901984118841977\n",
      "Current iteration=80000, loss=128.81975911615433\n",
      "||d|| = 1.172382689420134\n",
      "Current iteration=90000, loss=128.7010102634187\n",
      "||d|| = 1.0132957597390493\n",
      "loss=128.61032914595822\n"
     ]
    }
   ],
   "source": [
    "initial_w = np.zeros((tx.shape[1], 1))\n",
    "\n",
    "w, tr_loss = logistic_regression(y, tx, initial_w, 100000, 1e-5)"
   ]
  },
  {
   "cell_type": "code",
   "execution_count": 76,
   "metadata": {},
   "outputs": [
    {
     "name": "stdout",
     "output_type": "stream",
     "text": [
      "22.46759478233665\n"
     ]
    }
   ],
   "source": [
    "te_loss = compute_loss(y_test, tx_test, w)\n",
    "print(te_loss)"
   ]
  },
  {
   "cell_type": "code",
   "execution_count": 105,
   "metadata": {},
   "outputs": [],
   "source": [
    "y_sub, x_sub_raw, ids_sub = load_csv_data('../data/test.csv')"
   ]
  },
  {
   "cell_type": "code",
   "execution_count": 112,
   "metadata": {},
   "outputs": [],
   "source": [
    "x_sub = x_sub_raw[:, kept_columns]\n",
    "tx_sub = np.c_[np.ones((y_sub.shape[0], 1)), x_sub]\n",
    "y_sub = predict_labels(w, tx_sub)"
   ]
  },
  {
   "cell_type": "code",
   "execution_count": 116,
   "metadata": {},
   "outputs": [],
   "source": [
    "create_csv_submission(ids_sub, y_sub, '../submissions/10-20.15-53.csv')"
   ]
  },
  {
   "cell_type": "code",
   "execution_count": null,
   "metadata": {},
   "outputs": [],
   "source": []
  }
 ],
 "metadata": {
  "file_extension": ".py",
  "kernelspec": {
   "display_name": "Py3 ADA",
   "language": "python",
   "name": "py3_ada"
  },
  "language_info": {
   "codemirror_mode": {
    "name": "ipython",
    "version": 3
   },
   "file_extension": ".py",
   "mimetype": "text/x-python",
   "name": "python",
   "nbconvert_exporter": "python",
   "pygments_lexer": "ipython3",
   "version": "3.6.8"
  },
  "mimetype": "text/x-python",
  "name": "python",
  "npconvert_exporter": "python",
  "pygments_lexer": "ipython3",
  "version": 3
 },
 "nbformat": 4,
 "nbformat_minor": 4
}
