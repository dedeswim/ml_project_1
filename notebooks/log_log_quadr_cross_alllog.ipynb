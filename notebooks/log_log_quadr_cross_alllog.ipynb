{
 "cells": [
  {
   "cell_type": "code",
   "execution_count": 1,
   "metadata": {},
   "outputs": [],
   "source": [
    "import sys\n",
    "sys.path.append('..')\n",
    "\n",
    "import numpy as np\n",
    "from src.helpers import load_csv_data, standardize, remove_incomplete_columns, predict_labels, create_csv_submission, compute_accuracy\n",
    "from src.logistic.loss import compute_loss\n",
    "from src.logistic.not_req_impl import reg_logistic_regression\n",
    "from src.logistic.gradient import compute_gradient\n",
    "\n",
    "from src.helpers import remove_correlated_columns, get_jet_indexes, jet_indexes, log_indexes, get_all\n",
    "from src.polynomials import build_poly_matrix_quadratic\n",
    "from src.k_fold import build_k_indices\n",
    "\n",
    "%reload_ext autoreload\n",
    "%autoreload 2"
   ]
  },
  {
   "cell_type": "code",
   "execution_count": 2,
   "metadata": {},
   "outputs": [
    {
     "data": {
      "text/plain": [
       "30"
      ]
     },
     "execution_count": 2,
     "metadata": {},
     "output_type": "execute_result"
    }
   ],
   "source": [
    "# Import data\n",
    "y, x_raw, ids = load_csv_data('../data/train.csv')\n",
    "init_col_n = x_raw.shape[1]\n",
    "init_col_n"
   ]
  },
  {
   "cell_type": "code",
   "execution_count": 3,
   "metadata": {},
   "outputs": [],
   "source": [
    "# Transform y for logistic regression\n",
    "y[np.where(y == -1)] = 0"
   ]
  },
  {
   "cell_type": "code",
   "execution_count": 4,
   "metadata": {},
   "outputs": [],
   "source": [
    "x_jet_indexes = get_jet_indexes(x_raw)\n",
    "# x_jet_indexes = get_all(x_raw)\n",
    "x = x_raw\n",
    "x_mass = np.zeros(x.shape[0])\n",
    "x_mass[x[:, 0] == -999] = 1\n",
    "x[:, 0][x[:, 0] == -999] = np.median(x[:, 0][x[:, 0] != -999])\n",
    "x = np.column_stack((x, x_mass))"
   ]
  },
  {
   "cell_type": "code",
   "execution_count": 5,
   "metadata": {},
   "outputs": [
    {
     "name": "stdout",
     "output_type": "stream",
     "text": [
      "(99913, 21)\n",
      "(77544, 24)\n",
      "(72543, 31)\n"
     ]
    }
   ],
   "source": [
    "for i in x_jet_indexes:\n",
    "    tx_i = x[x_jet_indexes[i]]\n",
    "    tx_del = np.delete(tx_i, jet_indexes[i], axis=1)\n",
    "    print(tx_del.shape)"
   ]
  },
  {
   "cell_type": "code",
   "execution_count": 6,
   "metadata": {},
   "outputs": [
    {
     "name": "stdout",
     "output_type": "stream",
     "text": [
      "Current iteration=0, loss=[69254.41425129]\n",
      "||d|| = 8.452017961819308\n",
      "Current iteration=1000, loss=[48051.30847285]\n",
      "||d|| = 2.342489911071729\n",
      "Current iteration=2000, loss=[47322.49371571]\n",
      "||d|| = 3.7508621461127314\n",
      "Current iteration=3000, loss=[46528.73448391]\n",
      "||d|| = 3.787202275331311\n",
      "Current iteration=4000, loss=[46032.1087465]\n",
      "||d|| = 4.516971082030042\n",
      "Current iteration=5000, loss=[45957.94126128]\n",
      "||d|| = 12.191519043170517\n",
      "Current iteration=6000, loss=[45776.33259439]\n",
      "||d|| = 3.091703034345654\n",
      "Current iteration=7000, loss=[46172.32307359]\n",
      "||d|| = 15.058401186380157\n",
      "Current iteration=8000, loss=[45377.95173017]\n",
      "||d|| = 3.4952133158559335\n",
      "Current iteration=9000, loss=[45262.57208358]\n",
      "||d|| = 7.864668019242488\n",
      "loss=[45218.51880455]\n",
      "lambda=0.000000, Training accuracy=0.772, Testing accuracy=0.772\n",
      "Current iteration=0, loss=[53749.40496934]\n",
      "||d|| = 7.568035474504469\n",
      "Current iteration=1000, loss=[47239.06291202]\n",
      "||d|| = 11.112483510723814\n",
      "Current iteration=2000, loss=[46194.51581023]\n",
      "||d|| = 12.70715864232505\n",
      "Current iteration=3000, loss=[45601.89613915]\n",
      "||d|| = 10.569805962705384\n",
      "Current iteration=4000, loss=[45495.45351353]\n",
      "||d|| = 5.205423743474179\n",
      "Current iteration=5000, loss=[45494.72130259]\n",
      "||d|| = 7.959325940423396\n",
      "Current iteration=6000, loss=[45501.32370019]\n",
      "||d|| = 7.924958946618772\n",
      "Current iteration=7000, loss=[45180.37542584]\n",
      "||d|| = 9.000302397951316\n",
      "Current iteration=8000, loss=[45903.4139017]\n",
      "||d|| = 2.513486981258982\n",
      "Current iteration=9000, loss=[44959.32022009]\n",
      "||d|| = 11.409295568753826\n",
      "loss=[44885.54776955]\n",
      "lambda=0.000000, Training accuracy=0.662, Testing accuracy=0.662\n",
      "Current iteration=0, loss=[50282.97591936]\n",
      "||d|| = 13.327095980609126\n",
      "Current iteration=1000, loss=[44843.70521964]\n",
      "||d|| = 11.650674524898722\n",
      "Current iteration=2000, loss=[42305.99478758]\n",
      "||d|| = 7.9372077176947515\n",
      "Current iteration=3000, loss=[42566.76351093]\n",
      "||d|| = 7.030214651890667\n",
      "Current iteration=4000, loss=[41715.67466991]\n",
      "||d|| = 7.529571704598962\n",
      "Current iteration=5000, loss=[42039.51929556]\n",
      "||d|| = 22.134852887935235\n",
      "Current iteration=6000, loss=[41291.66306701]\n",
      "||d|| = 12.615249426963764\n",
      "Current iteration=7000, loss=[41387.88682072]\n",
      "||d|| = 7.000523393874803\n",
      "Current iteration=8000, loss=[41076.7687425]\n",
      "||d|| = 6.703519472588489\n",
      "Current iteration=9000, loss=[41284.62028916]\n",
      "||d|| = 8.701491022851815\n",
      "loss=[40973.39169706]\n",
      "lambda=0.000000, Training accuracy=0.693, Testing accuracy=0.693\n"
     ]
    }
   ],
   "source": [
    "ws, te_accs, tr_accs, te_losses, tr_losses = [], [], [], [], []\n",
    "lambda_ = 0\n",
    "\n",
    "for i in x_jet_indexes:\n",
    "    \n",
    "    y_i = y[x_jet_indexes[i]]\n",
    "    tx_i = x[x_jet_indexes[i]]\n",
    "    tx_del = np.delete(tx_i, jet_indexes[i], axis=1)\n",
    "    \n",
    "    for li in range(tx_del.shape[1]):\n",
    "       # print(tx_del[:,li].min())\n",
    "       tx_del[:,li] = np.apply_along_axis(lambda n: np.log(1 + abs(tx_del[:,li].min()) + n), 0, tx_del[:,li])\n",
    "    \n",
    "    tx_std = standardize(tx_del)[0]\n",
    "    tx_poly = build_poly_matrix_quadratic(tx_std)\n",
    "    tx = np.c_[np.ones((y_i.shape[0], 1)), tx_poly]\n",
    "    \n",
    "    initial_w = np.zeros((tx.shape[1], 1))\n",
    "\n",
    "    k_indices = build_k_indices(y_i, k, 1)\n",
    "    \n",
    "    te_accs_k, tr_accs_k, te_losses_k, tr_losses_k, ws_k = [], [], [], [], []\n",
    "    \n",
    "    # Ridge linear\n",
    "    w, loss_tr_k = reg_logistic_regression(y_i, tx, initial_w, lambda_, 10000, 0.01, method='sgd', ratio=0.5)\n",
    "\n",
    "    # Calculate the loss for test data\n",
    "    loss_te_k = compute_loss(y_i, tx, w)\n",
    "\n",
    "    acc_tr_k = compute_accuracy(tx, w, y_i, mode='logistic')\n",
    "    acc_te_k = compute_accuracy(tx, w, y_i, mode='logistic')\n",
    "\n",
    "    te_accs_k.append(acc_te_k)\n",
    "    tr_accs_k.append(acc_tr_k)\n",
    "    te_losses_k.append(np.math.sqrt(2 * loss_te_k))\n",
    "    tr_losses_k.append(np.math.sqrt(2 * loss_tr_k))\n",
    "\n",
    "    ws_k.append(w)  \n",
    "\n",
    "    te_accs.append(np.mean(te_accs_k) * x[x_jet_indexes[i]].shape[0])\n",
    "    tr_accs.append(np.mean(acc_te_k) * x[x_jet_indexes[i]].shape[0])\n",
    "    te_losses.append(np.mean(te_losses_k) * x[x_jet_indexes[i]].shape[0])\n",
    "    tr_losses.append(np.mean(tr_losses_k) * x[x_jet_indexes[i]].shape[0])\n",
    "    ws.append(np.mean(ws_k, axis=0))\n",
    "\n",
    "    print(\"lambda={l:.6f}, Training accuracy={tr:.3f}, Testing accuracy={te:.3f}\".format(\n",
    "           l=lambda_, tr=tr_accs[i] / y_i.shape[0], te=te_accs[i] / y_i.shape[0]))"
   ]
  },
  {
   "cell_type": "code",
   "execution_count": 7,
   "metadata": {},
   "outputs": [],
   "source": [
    "y_sub, x_sub_raw, ids_sub = load_csv_data('../data/test.csv')\n",
    "x_sub = x_sub_raw\n",
    "x_sub[:, 0][x_sub[:, 0] == -999] = np.median(x_sub[:, 0][x_sub[:, 0] != -999])\n",
    "x_sub_mass = np.zeros(x_sub.shape[0])\n",
    "x_sub_mass[x_sub[:, 0] == -999] = 1\n",
    "x_sub = np.column_stack((x_sub, x_sub_mass))\n",
    "sub_jet_indexes = get_jet_indexes(x_sub)"
   ]
  },
  {
   "cell_type": "code",
   "execution_count": 8,
   "metadata": {},
   "outputs": [
    {
     "name": "stdout",
     "output_type": "stream",
     "text": [
      "(227458, 21)\n",
      "(175338, 24)\n",
      "(165442, 31)\n"
     ]
    }
   ],
   "source": [
    "for i, w in enumerate(ws):\n",
    "    tx_i_sub = x_sub[sub_jet_indexes[i]]\n",
    "    tx_sub_del = np.delete(tx_i_sub, jet_indexes[i], axis=1)\n",
    "    print(tx_sub_del.shape)"
   ]
  },
  {
   "cell_type": "code",
   "execution_count": 9,
   "metadata": {},
   "outputs": [],
   "source": [
    "for i, w in enumerate(ws):\n",
    "    \n",
    "    tx_i_sub = x_sub[sub_jet_indexes[i]]\n",
    "    tx_sub_del = np.delete(tx_i_sub, jet_indexes[i], axis=1)\n",
    "    \n",
    "    for li in range(tx_sub_del.shape[1]):\n",
    "        # print(tx_del[:,li].min())\n",
    "        tx_sub_del[:,li] = np.apply_along_axis(lambda n: np.log(1 + abs(tx_sub_del[:,li].min()) + n), 0, tx_sub_del[:,li])\n",
    "    \n",
    "    tx_sub_std = standardize(tx_sub_del)[0]\n",
    "    tx_sub_poly = build_poly_matrix_quadratic(tx_sub_std)\n",
    "    tx_sub = np.c_[np.ones((y_sub[sub_jet_indexes[i]].shape[0], 1)), tx_sub_poly]\n",
    "    \n",
    "    y_sub[sub_jet_indexes[i]] = predict_labels(ws[i], tx_sub, mode='logistic')\n",
    "    \n",
    "create_csv_submission(ids_sub, y_sub, '../submissions/10-27_19.10.csv')"
   ]
  }
 ],
 "metadata": {
  "file_extension": ".py",
  "kernelspec": {
   "display_name": "Python 3",
   "language": "python",
   "name": "python3"
  },
  "language_info": {
   "codemirror_mode": {
    "name": "ipython",
    "version": 3
   },
   "file_extension": ".py",
   "mimetype": "text/x-python",
   "name": "python",
   "nbconvert_exporter": "python",
   "pygments_lexer": "ipython3",
   "version": "3.7.4"
  },
  "mimetype": "text/x-python",
  "name": "python",
  "npconvert_exporter": "python",
  "pygments_lexer": "ipython3",
  "version": 3
 },
 "nbformat": 4,
 "nbformat_minor": 4
}
