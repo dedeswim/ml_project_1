{
 "cells": [
  {
   "cell_type": "code",
   "execution_count": 1,
   "metadata": {},
   "outputs": [],
   "source": [
    "import sys\n",
    "sys.path.append('..')\n",
    "\n",
    "import numpy as np\n",
    "from src.helpers import load_csv_data, standardize, flatten_jet_features, predict_labels, create_csv_submission, get_jet_indexes, jet_indexes, compute_accuracy\n",
    "from src.linear.implementations import ridge_regression\n",
    "from src.split import split_data\n",
    "from src.polynomials import build_poly_matrix_vandermonde, build_poly_matrix_quadratic\n",
    "from src.plots import plot_train_test, plot_poly_degree\n",
    "from src.linear.loss import compute_loss\n",
    "from src.k_fold import cross_validation, build_k_indices\n",
    "import time\n",
    "\n",
    "%reload_ext autoreload\n",
    "%autoreload 2"
   ]
  },
  {
   "cell_type": "code",
   "execution_count": 2,
   "metadata": {},
   "outputs": [],
   "source": [
    "# Import data\n",
    "y, x_raw, ids = load_csv_data('../data/train.csv')"
   ]
  },
  {
   "cell_type": "markdown",
   "metadata": {},
   "source": [
    "## Plain ridge regression"
   ]
  },
  {
   "cell_type": "code",
   "execution_count": 81,
   "metadata": {},
   "outputs": [],
   "source": [
    "x, mean_x, std_x = standardize(x_raw)\n",
    "tx = np.c_[np.ones((y.shape[0], 1)), x]"
   ]
  },
  {
   "cell_type": "code",
   "execution_count": 75,
   "metadata": {},
   "outputs": [],
   "source": [
    "ratio = 0.8\n",
    "tx_train, y_train, tx_test, y_test = split_data(tx, y, ratio)"
   ]
  },
  {
   "cell_type": "code",
   "execution_count": 76,
   "metadata": {},
   "outputs": [],
   "source": [
    "loss, w = ridge_regression(y_train, tx_train, 0.01)"
   ]
  },
  {
   "cell_type": "code",
   "execution_count": 77,
   "metadata": {},
   "outputs": [],
   "source": [
    "y_pred = predict_labels(w, tx_test, mode='linear')"
   ]
  },
  {
   "cell_type": "code",
   "execution_count": 78,
   "metadata": {},
   "outputs": [
    {
     "data": {
      "text/plain": [
       "0.68992"
      ]
     },
     "execution_count": 78,
     "metadata": {},
     "output_type": "execute_result"
    }
   ],
   "source": [
    "(y_pred == y_test).sum() / y_test.shape[0]"
   ]
  },
  {
   "cell_type": "markdown",
   "metadata": {},
   "source": [
    "## Ridge regression with flattened jet features"
   ]
  },
  {
   "cell_type": "code",
   "execution_count": 16,
   "metadata": {},
   "outputs": [],
   "source": [
    "x = flatten_jet_features(x_raw)\n",
    "x, mean_x, std_x = standardize(x)\n",
    "tx = np.c_[np.ones((y.shape[0], 1)), x]"
   ]
  },
  {
   "cell_type": "code",
   "execution_count": 17,
   "metadata": {},
   "outputs": [],
   "source": [
    "tx_train, y_train, tx_test, y_test = split_data(tx, y, 0.8)"
   ]
  },
  {
   "cell_type": "code",
   "execution_count": 18,
   "metadata": {},
   "outputs": [],
   "source": [
    "loss, w = ridge_regression(y_train, tx_train, 0.01)"
   ]
  },
  {
   "cell_type": "code",
   "execution_count": 19,
   "metadata": {},
   "outputs": [],
   "source": [
    "y_pred = predict_labels(w, tx_test, mode='linear')"
   ]
  },
  {
   "cell_type": "code",
   "execution_count": 20,
   "metadata": {},
   "outputs": [
    {
     "data": {
      "text/plain": [
       "0.70966"
      ]
     },
     "execution_count": 20,
     "metadata": {},
     "output_type": "execute_result"
    }
   ],
   "source": [
    "(y_pred == y_test).sum() / y_test.shape[0]"
   ]
  },
  {
   "cell_type": "markdown",
   "metadata": {},
   "source": [
    "## Ridge regression with flattened jet features and polynomial degree"
   ]
  },
  {
   "cell_type": "code",
   "execution_count": 13,
   "metadata": {},
   "outputs": [],
   "source": [
    "x = flatten_jet_features(x_raw)\n",
    "x, mean_x, std_x = standardize(x)\n",
    "tx = build_poly_matrix_vandermonde(x, 12)"
   ]
  },
  {
   "cell_type": "code",
   "execution_count": 14,
   "metadata": {},
   "outputs": [],
   "source": [
    "tx_train, y_train, tx_test, y_test = split_data(tx, y, 0.8)"
   ]
  },
  {
   "cell_type": "code",
   "execution_count": 15,
   "metadata": {},
   "outputs": [],
   "source": [
    "loss, w = ridge_regression(y_train, tx_train, 0.0001)"
   ]
  },
  {
   "cell_type": "code",
   "execution_count": 16,
   "metadata": {},
   "outputs": [],
   "source": [
    "y_pred = predict_labels(w, tx_test, mode='linear')"
   ]
  },
  {
   "cell_type": "code",
   "execution_count": 17,
   "metadata": {},
   "outputs": [
    {
     "data": {
      "text/plain": [
       "0.79616"
      ]
     },
     "execution_count": 17,
     "metadata": {},
     "output_type": "execute_result"
    }
   ],
   "source": [
    "(y_pred == y_test).sum() / y_test.shape[0]"
   ]
  },
  {
   "cell_type": "markdown",
   "metadata": {},
   "source": [
    "Result with lambda = 0.0001, degree = 12 => 0.79616"
   ]
  },
  {
   "cell_type": "code",
   "execution_count": null,
   "metadata": {},
   "outputs": [],
   "source": [
    "y_sub, x_sub_raw, ids_sub = load_csv_data('../data/test.csv')\n",
    "y_pred = predict_labels(w, tx_test, mode='linear')\n",
    "create_csv_submission(ids, y_pred, '../submissions/10-24.22-32.csv')"
   ]
  },
  {
   "cell_type": "markdown",
   "metadata": {},
   "source": [
    "## Ridge regression with different sets"
   ]
  },
  {
   "cell_type": "code",
   "execution_count": 45,
   "metadata": {},
   "outputs": [],
   "source": [
    "degree = 2\n",
    "ratio = 0.8\n",
    "lambda_ = 0.0001\n",
    "\n",
    "x_train, y_train, x_test, y_test = split_data(x_raw, y, ratio)\n",
    "\n",
    "train_jet_indexes= get_jet_indexes(x_train)\n",
    "test_jet_indexes = get_jet_indexes(x_test)"
   ]
  },
  {
   "cell_type": "code",
   "execution_count": 46,
   "metadata": {},
   "outputs": [],
   "source": [
    "ws = []\n",
    "accuracies = []\n",
    "\n",
    "y_pred = np.zeros((x_test.shape[0], 1))\n",
    "\n",
    "for i in train_jet_indexes:\n",
    "    \n",
    "    tx_train_raw = x_train[train_jet_indexes[i]]\n",
    "    tx_test_raw = x_test[test_jet_indexes[i]]\n",
    "    \n",
    "    tx_train_std = standardize(tx_train_raw)[0]\n",
    "    tx_test_std = standardize(tx_test_raw)[0]\n",
    "    \n",
    "    tx_train_rem = np.delete(tx_train_std, jet_indexes[i], axis=1)\n",
    "    tx_test_rem = np.delete(tx_test_std, jet_indexes[i], axis=1)\n",
    "    \n",
    "    tx_train = build_poly_matrix_vandermonde(tx_train_rem, degree)\n",
    "    tx_test = build_poly_matrix_vandermonde(tx_test_rem, degree)\n",
    "    \n",
    "    loss, w = ridge_regression(y_train[train_jet_indexes[i]], tx_train, lambda_)\n",
    "    \n",
    "    y_pred[test_jet_indexes[i]] = predict_labels(w, tx_test, mode='linear')\n",
    "    ws.append(w)"
   ]
  },
  {
   "cell_type": "code",
   "execution_count": 47,
   "metadata": {},
   "outputs": [
    {
     "data": {
      "text/plain": [
       "0.57474"
      ]
     },
     "execution_count": 47,
     "metadata": {},
     "output_type": "execute_result"
    }
   ],
   "source": [
    "tot_accuracy = (y_pred == y_test).sum() / (y_test.shape[0])\n",
    "tot_accuracy"
   ]
  },
  {
   "cell_type": "markdown",
   "metadata": {},
   "source": [
    "With degree 12, lambda = 0.001 => test accuracy = 0.710"
   ]
  },
  {
   "cell_type": "code",
   "execution_count": 9,
   "metadata": {},
   "outputs": [],
   "source": [
    "y_sub, x_sub_raw, ids_sub = load_csv_data('../data/test.csv')\n",
    "tx_sub_split, y_sub_split, ids_split = jet_split(x_sub_raw, y_sub, ids_sub, degree)"
   ]
  },
  {
   "cell_type": "code",
   "execution_count": 10,
   "metadata": {},
   "outputs": [],
   "source": [
    "y_split_pred = [predict_labels(ws[i], x, mode='linear') for i, x in enumerate(tx_sub_split)]"
   ]
  },
  {
   "cell_type": "code",
   "execution_count": 12,
   "metadata": {},
   "outputs": [],
   "source": [
    "y_split_cat = np.concatenate(y_split_pred)\n",
    "ids_split_cat = np.concatenate(ids_split)\n",
    "create_csv_submission(ids_split_cat, y_split_cat, '../submissions/10-24.21-37.csv')"
   ]
  },
  {
   "cell_type": "markdown",
   "metadata": {},
   "source": [
    "## Ridge regression with lambda grid_search"
   ]
  },
  {
   "cell_type": "code",
   "execution_count": 3,
   "metadata": {},
   "outputs": [],
   "source": [
    "def ridge_regression_lambda_search(x, y, lambdas, degree, ratio):\n",
    "\n",
    "    x = flatten_jet_features(x_raw)\n",
    "    x, mean_x, std_x = standardize(x)\n",
    "    tx = build_poly_matrix_vandermonde(x, degree)\n",
    "\n",
    "    tx_train, y_train, tx_test, y_test = split_data(tx, y, ratio)\n",
    "\n",
    "    rmse_tr = []\n",
    "    rmse_te = []\n",
    "    acc_tr = []\n",
    "    acc_te = []\n",
    "    ws = []\n",
    "\n",
    "    for ind, lambda_ in enumerate(lambdas):\n",
    "\n",
    "        tr_loss, w = ridge_regression(y_train, tx_train, lambda_)\n",
    "        te_loss = compute_loss(y_test, tx_test, w)\n",
    "        \n",
    "        tr_acc = compute_accuracy(tx_train, w, y_train, mode='linear')\n",
    "        te_acc = compute_accuracy(tx_test, w, y_test, mode='linear')\n",
    "\n",
    "        rmse_tr.append(np.math.sqrt(2 * tr_loss))\n",
    "        rmse_te.append(np.math.sqrt(2 * te_loss))\n",
    "        acc_tr.append(tr_acc)\n",
    "        acc_te.append(te_acc)\n",
    "        ws.append(w)\n",
    "\n",
    "        print(\"proportion={p}, degree={d}, lambda={l:.6f}, Training RMSE={tr:.3f}, Testing RMSE={te:.3f}\".format(\n",
    "                   p=ratio, d=degree, l=lambda_, tr=rmse_tr[ind], te=rmse_te[ind]))\n",
    "\n",
    "    plot_train_test(rmse_tr, rmse_te, lambdas, degree)\n",
    "    plot_train_test(acc_tr, acc_te, lambdas, degree)\n",
    "    return ws, rmse_tr, rmse_te"
   ]
  },
  {
   "cell_type": "code",
   "execution_count": 4,
   "metadata": {},
   "outputs": [
    {
     "name": "stdout",
     "output_type": "stream",
     "text": [
      "proportion=0.8, degree=12, lambda=0.000010, Training RMSE=0.756, Testing RMSE=10.606\n",
      "proportion=0.8, degree=12, lambda=0.000023, Training RMSE=0.760, Testing RMSE=8.879\n",
      "proportion=0.8, degree=12, lambda=0.000052, Training RMSE=0.765, Testing RMSE=4.703\n",
      "proportion=0.8, degree=12, lambda=0.000118, Training RMSE=0.770, Testing RMSE=1.670\n",
      "proportion=0.8, degree=12, lambda=0.000268, Training RMSE=0.774, Testing RMSE=7.912\n",
      "proportion=0.8, degree=12, lambda=0.000611, Training RMSE=0.778, Testing RMSE=13.023\n",
      "proportion=0.8, degree=12, lambda=0.001389, Training RMSE=0.782, Testing RMSE=15.666\n",
      "proportion=0.8, degree=12, lambda=0.003162, Training RMSE=0.789, Testing RMSE=15.701\n",
      "proportion=0.8, degree=12, lambda=0.007197, Training RMSE=0.802, Testing RMSE=10.731\n",
      "proportion=0.8, degree=12, lambda=0.016379, Training RMSE=0.820, Testing RMSE=1.235\n",
      "proportion=0.8, degree=12, lambda=0.037276, Training RMSE=0.841, Testing RMSE=10.504\n",
      "proportion=0.8, degree=12, lambda=0.084834, Training RMSE=0.860, Testing RMSE=19.066\n",
      "proportion=0.8, degree=12, lambda=0.193070, Training RMSE=0.874, Testing RMSE=17.604\n",
      "proportion=0.8, degree=12, lambda=0.439397, Training RMSE=0.884, Testing RMSE=8.715\n",
      "proportion=0.8, degree=12, lambda=1.000000, Training RMSE=0.893, Testing RMSE=1.476\n"
     ]
    },
    {
     "data": {
      "image/png": "[encoded data removed]",
      "text/plain": [
       "<Figure size 432x288 with 1 Axes>"
      ]
     },
     "metadata": {
      "needs_background": "light"
     },
     "output_type": "display_data"
    },
    {
     "data": {
      "image/png": "[encoded data removed]",
      "text/plain": [
       "<Figure size 432x288 with 1 Axes>"
      ]
     },
     "metadata": {
      "needs_background": "light"
     },
     "output_type": "display_data"
    }
   ],
   "source": [
    "lambdas = np.logspace(-5, 0, 15)\n",
    "degree = 12\n",
    "ratio = 0.8\n",
    "\n",
    "ws, rmse_tr, rmse_te = ridge_regression_lambda_search(x_raw, y, lambdas, degree, ratio)"
   ]
  },
  {
   "cell_type": "code",
   "execution_count": 3,
   "metadata": {},
   "outputs": [],
   "source": [
    "def ridge_regression_degree_search(x, y, lambda_, degrees, ratio):\n",
    "\n",
    "    x = flatten_jet_features(x_raw)\n",
    "    x, mean_x, std_x = standardize(x)\n",
    "\n",
    "    rmse_tr = []\n",
    "    rmse_te = []\n",
    "    acc_tr = []\n",
    "    acc_te = []\n",
    "    ws = []\n",
    "\n",
    "    for ind, degree in enumerate(degrees):\n",
    "        \n",
    "        tx = build_poly_matrix_vandermonde(x, degree)\n",
    "        tx_train, y_train, tx_test, y_test = split_data(tx, y, ratio)\n",
    "\n",
    "        tr_loss, w = ridge_regression(y_train, tx_train, lambda_)\n",
    "        te_loss = compute_loss(y_test, tx_test, w)\n",
    "        \n",
    "        tr_acc = compute_accuracy(tx_train, w, y_train, mode='linear')\n",
    "        te_acc = compute_accuracy(tx_test, w, y_test, mode='linear')\n",
    "\n",
    "        rmse_tr.append(np.math.sqrt(2 * tr_loss))\n",
    "        rmse_te.append(np.math.sqrt(2 * te_loss))\n",
    "        acc_tr.append(tr_acc)\n",
    "        acc_te.append(te_acc)\n",
    "        ws.append(w)\n",
    "\n",
    "        print(\"proportion={p}, degree={d}, lambda={l:.6f}, Training RMSE={tr:.3f}, Testing RMSE={te:.3f}\".format(\n",
    "                   p=ratio, d=degree, l=lambda_, tr=rmse_tr[ind], te=rmse_te[ind]))\n",
    "\n",
    "    plot_poly_degree(rmse_tr, rmse_te, degrees, lambda_)\n",
    "    plot_poly_degree(acc_tr, acc_te, degrees, lambda_)\n",
    "    return ws, rmse_tr, rmse_te"
   ]
  },
  {
   "cell_type": "code",
   "execution_count": 4,
   "metadata": {},
   "outputs": [
    {
     "name": "stdout",
     "output_type": "stream",
     "text": [
      "proportion=0.8, degree=0, lambda=0.000100, Training RMSE=0.949, Testing RMSE=0.950\n",
      "proportion=0.8, degree=1, lambda=0.000100, Training RMSE=0.844, Testing RMSE=0.846\n",
      "proportion=0.8, degree=2, lambda=0.000100, Training RMSE=0.830, Testing RMSE=0.830\n",
      "proportion=0.8, degree=3, lambda=0.000100, Training RMSE=0.818, Testing RMSE=0.820\n",
      "proportion=0.8, degree=4, lambda=0.000100, Training RMSE=0.802, Testing RMSE=0.804\n",
      "proportion=0.8, degree=5, lambda=0.000100, Training RMSE=0.789, Testing RMSE=0.790\n",
      "proportion=0.8, degree=6, lambda=0.000100, Training RMSE=0.783, Testing RMSE=0.788\n",
      "proportion=0.8, degree=7, lambda=0.000100, Training RMSE=0.783, Testing RMSE=0.837\n",
      "proportion=0.8, degree=8, lambda=0.000100, Training RMSE=0.778, Testing RMSE=0.876\n",
      "proportion=0.8, degree=9, lambda=0.000100, Training RMSE=0.774, Testing RMSE=0.902\n",
      "proportion=0.8, degree=10, lambda=0.000100, Training RMSE=0.774, Testing RMSE=1.476\n",
      "proportion=0.8, degree=11, lambda=0.000100, Training RMSE=0.770, Testing RMSE=7.125\n",
      "proportion=0.8, degree=12, lambda=0.000100, Training RMSE=0.769, Testing RMSE=0.793\n",
      "proportion=0.8, degree=13, lambda=0.000100, Training RMSE=0.776, Testing RMSE=24.302\n",
      "proportion=0.8, degree=14, lambda=0.000100, Training RMSE=0.768, Testing RMSE=22.731\n",
      "proportion=0.8, degree=15, lambda=0.000100, Training RMSE=0.781, Testing RMSE=135.687\n"
     ]
    },
    {
     "data": {
      "image/png": "[encoded data removed]",
      "text/plain": [
       "<Figure size 432x288 with 1 Axes>"
      ]
     },
     "metadata": {
      "needs_background": "light"
     },
     "output_type": "display_data"
    },
    {
     "data": {
      "image/png": "[encoded data removed]",
      "text/plain": [
       "<Figure size 432x288 with 1 Axes>"
      ]
     },
     "metadata": {
      "needs_background": "light"
     },
     "output_type": "display_data"
    }
   ],
   "source": [
    "lambda_ = 0.0001\n",
    "degrees = range(16)\n",
    "ratio = 0.8\n",
    "\n",
    "ws, rmse_tr, rmse_te = ridge_regression_degree_search(x_raw, y, lambda_, degrees, ratio)"
   ]
  },
  {
   "cell_type": "markdown",
   "metadata": {},
   "source": [
    "The best combination seems to be with lambda = 0.0001 and degree = 15"
   ]
  },
  {
   "cell_type": "code",
   "execution_count": 16,
   "metadata": {},
   "outputs": [],
   "source": [
    "lambda_ = 0.00001\n",
    "degree = 5\n",
    "\n",
    "x = flatten_jet_features(x_raw)\n",
    "x, mean_x, std_x = standardize(x)\n",
    "tx = build_poly_matrix_vandermonde(x, degree)\n",
    "tx_train, y_train, tx_test, y_test = split_data(tx, y, 0.8)\n",
    "\n",
    "loss, w = ridge_regression(y_train, tx_train, lambda_)"
   ]
  },
  {
   "cell_type": "code",
   "execution_count": 17,
   "metadata": {},
   "outputs": [
    {
     "data": {
      "text/plain": [
       "0.78428"
      ]
     },
     "execution_count": 17,
     "metadata": {},
     "output_type": "execute_result"
    }
   ],
   "source": [
    "y_pred = predict_labels(w, tx_test, mode='linear')\n",
    "(y_pred == y_test).sum() / y_test.shape[0]"
   ]
  },
  {
   "cell_type": "code",
   "execution_count": 18,
   "metadata": {},
   "outputs": [],
   "source": [
    "y_sub, x_sub_raw, ids_sub = load_csv_data('../data/test.csv')\n",
    "\n",
    "x_sub = flatten_jet_features(x_sub_raw)\n",
    "x_sub, mean_x, std_x = standardize(x_sub)\n",
    "tx_sub = build_poly_matrix_vandermonde(x_sub, degree)"
   ]
  },
  {
   "cell_type": "code",
   "execution_count": 19,
   "metadata": {},
   "outputs": [],
   "source": [
    "y_sub = predict_labels(w, tx_sub, mode='linear')"
   ]
  },
  {
   "cell_type": "code",
   "execution_count": 20,
   "metadata": {},
   "outputs": [],
   "source": [
    "create_csv_submission(ids_sub, y_sub, '../submissions/10-25.00-44.csv')"
   ]
  },
  {
   "cell_type": "markdown",
   "metadata": {},
   "source": [
    "## Ridge regression with cross validation"
   ]
  },
  {
   "cell_type": "code",
   "execution_count": 40,
   "metadata": {},
   "outputs": [],
   "source": [
    "def ridge_regression_cross_degree_search(x, y, lambda_, degrees, k):\n",
    "\n",
    "    x = flatten_jet_features(x)\n",
    "    x, mean_x, std_x = standardize(x)\n",
    "    \n",
    "    k_indices = build_k_indices(y, k, 1)\n",
    "\n",
    "    rmse_tr = []\n",
    "    rmse_te = []\n",
    "    acc_tr = []\n",
    "    acc_te = []\n",
    "    ws = []\n",
    "\n",
    "    for ind, degree in enumerate(degrees):\n",
    "        \n",
    "        tr_loss, te_loss, tr_acc, te_acc = cross_validation(y, x, k_indices, k, lambda_, degree, ridge_regression)\n",
    "\n",
    "\n",
    "        rmse_tr.append(np.math.sqrt(2 * tr_loss))\n",
    "        rmse_te.append(np.math.sqrt(2 * te_loss))\n",
    "        acc_tr.append(tr_acc)\n",
    "        acc_te.append(te_acc)\n",
    "        # ws.append(w)\n",
    "\n",
    "        print(\"degree={d}, lambda={l:.6f}, Training RMSE={tr:.3f}, Testing RMSE={te:.3f}\".format(\n",
    "                   d=degree, l=lambda_, tr=rmse_tr[ind], te=rmse_te[ind]))\n",
    "\n",
    "    plot_poly_degree(rmse_tr, rmse_te, degrees, lambda_)\n",
    "    plot_poly_degree(acc_tr, acc_te, degrees, lambda_)\n",
    "    return ws, rmse_tr, rmse_te"
   ]
  },
  {
   "cell_type": "code",
   "execution_count": null,
   "metadata": {},
   "outputs": [],
   "source": [
    "lambda_ = 1e-3\n",
    "degrees = range(15)\n",
    "k = 5 \n",
    "ws, rmse_tr, rmse_te = ridge_regression_cross_degree_search(x_raw, y, lambda_, degrees, 5)"
   ]
  },
  {
   "cell_type": "markdown",
   "metadata": {},
   "source": [
    "## Ridge regression with cross validation on different sets"
   ]
  },
  {
   "cell_type": "code",
   "execution_count": 48,
   "metadata": {},
   "outputs": [],
   "source": [
    "def ridge_regression_cross_degree_search_sets(x, y, lambda_, degrees, k):\n",
    "    \n",
    "    x_jet_indexes = get_jet_indexes(x)\n",
    "    rmse_tr = []\n",
    "    rmse_te = []\n",
    "    acc_tr = []\n",
    "    acc_te = []\n",
    "    ws = []\n",
    "\n",
    "    for ind, degree in enumerate(degrees):\n",
    "        \n",
    "        ws = []\n",
    "        te_accs = []\n",
    "        tr_accs = []\n",
    "        te_losses = []\n",
    "        tr_losses = []\n",
    "\n",
    "        for i in x_jet_indexes:\n",
    "\n",
    "            tx_std = standardize(x[x_jet_indexes[i]])[0]\n",
    "            tx = np.delete(tx_std, jet_indexes[i], axis=1)\n",
    "            y_i = y[x_jet_indexes[i]]\n",
    "            \n",
    "            k_indices = build_k_indices(y_i, k, 1)\n",
    "            \n",
    "            tr_loss, te_loss, tr_acc, te_acc = \\\n",
    "                cross_validation(y_i, tx, k_indices, k, lambda_, degree, ridge_regression)\n",
    "\n",
    "            # ws.append(w)\n",
    "            te_accs.append(te_acc * x[x_jet_indexes[i]].shape[0])\n",
    "            tr_accs.append(tr_acc * x[x_jet_indexes[i]].shape[0])\n",
    "            te_losses.append(te_loss * x[x_jet_indexes[i]].shape[0])\n",
    "            tr_losses.append(tr_loss * x[x_jet_indexes[i]].shape[0])\n",
    "            \n",
    "        rmse_tr.append(np.math.sqrt(2 * sum(tr_losses) / x.shape[0]))\n",
    "        rmse_te.append(np.math.sqrt(2 * sum(te_losses) / x.shape[0]))\n",
    "        acc_tr.append(sum(tr_accs) / x.shape[0])\n",
    "        acc_te.append(sum(te_accs) / x.shape[0])\n",
    "\n",
    "        print(\"degree={d}, lambda={l:.6f}, Training RMSE={tr:.3f}, Testing RMSE={te:.3f}\".format(\n",
    "                   d=degree, l=lambda_, tr=rmse_tr[ind], te=rmse_te[ind]))\n",
    "\n",
    "    plot_poly_degree(rmse_tr, rmse_te, degrees, lambda_)\n",
    "    plot_poly_degree(acc_tr, acc_te, degrees, lambda_)\n",
    "    \n",
    "    return ws, rmse_tr, rmse_te"
   ]
  },
  {
   "cell_type": "code",
   "execution_count": 50,
   "metadata": {},
   "outputs": [
    {
     "name": "stdout",
     "output_type": "stream",
     "text": [
      "degree=0, lambda=0.000010, Training RMSE=1.367, Testing RMSE=1.367\n",
      "degree=1, lambda=0.000010, Training RMSE=1.286, Testing RMSE=2.541\n",
      "degree=2, lambda=0.000010, Training RMSE=1.273, Testing RMSE=4.747\n",
      "degree=3, lambda=0.000010, Training RMSE=1.265, Testing RMSE=16.089\n",
      "degree=4, lambda=0.000010, Training RMSE=1.255, Testing RMSE=33.325\n",
      "degree=5, lambda=0.000010, Training RMSE=1.246, Testing RMSE=72.251\n",
      "degree=6, lambda=0.000010, Training RMSE=1.243, Testing RMSE=323.853\n",
      "degree=7, lambda=0.000010, Training RMSE=1.241, Testing RMSE=2495.046\n"
     ]
    },
    {
     "data": {
      "image/png": "[encoded data removed]",
      "text/plain": [
       "<Figure size 432x288 with 1 Axes>"
      ]
     },
     "metadata": {
      "needs_background": "light"
     },
     "output_type": "display_data"
    },
    {
     "data": {
      "image/png": "[encoded data removed]",
      "text/plain": [
       "<Figure size 432x288 with 1 Axes>"
      ]
     },
     "metadata": {
      "needs_background": "light"
     },
     "output_type": "display_data"
    }
   ],
   "source": [
    "lambda_ = 1e-5\n",
    "degrees = range(8)\n",
    "k = 5\n",
    "\n",
    "ws, rmse_tr, rmse_te = ridge_regression_cross_degree_search_sets(x_raw, y, lambda_, degrees, 5)"
   ]
  },
  {
   "cell_type": "code",
   "execution_count": 6,
   "metadata": {},
   "outputs": [],
   "source": [
    "def ridge_regression_cross_lambda_search_sets(x, y, lambdas, k):\n",
    "    \n",
    "    x_jet_indexes = get_jet_indexes(x)\n",
    "    rmse_tr = []\n",
    "    rmse_te = []\n",
    "    acc_tr = []\n",
    "    acc_te = []\n",
    "    ws = []\n",
    "\n",
    "    for ind, lambda_ in enumerate(lambdas):\n",
    "        \n",
    "        ws = []\n",
    "        te_accs = []\n",
    "        tr_accs = []\n",
    "        te_losses = []\n",
    "        tr_losses = []\n",
    "\n",
    "        for i in x_jet_indexes:\n",
    "\n",
    "            tx_std = standardize(x[x_jet_indexes[i]])[0]\n",
    "            tx_del = np.delete(tx_std, jet_indexes[i], axis=1)\n",
    "            tx = build_poly_matrix_quadratic(tx_del)\n",
    "            y_i = y[x_jet_indexes[i]]\n",
    "            \n",
    "            k_indices = build_k_indices(y_i, k, 1)\n",
    "            \n",
    "            tr_loss, te_loss, tr_acc, te_acc = \\\n",
    "                cross_validation(y_i, tx, k_indices, k, lambda_, ridge_regression)\n",
    "\n",
    "            # ws.append(w)\n",
    "            te_accs.append(te_acc * x[x_jet_indexes[i]].shape[0])\n",
    "            tr_accs.append(tr_acc * x[x_jet_indexes[i]].shape[0])\n",
    "            te_losses.append(te_loss * x[x_jet_indexes[i]].shape[0])\n",
    "            tr_losses.append(tr_loss * x[x_jet_indexes[i]].shape[0])\n",
    "            \n",
    "        rmse_tr.append(np.math.sqrt(2 * sum(tr_losses) / x.shape[0]))\n",
    "        rmse_te.append(np.math.sqrt(2 * sum(te_losses) / x.shape[0]))\n",
    "        acc_tr.append(sum(tr_accs) / x.shape[0])\n",
    "        acc_te.append(sum(te_accs) / x.shape[0])\n",
    "\n",
    "        print(\"lambda={l:.6f}, Training accuracy={tr:.3f}, Testing accuracy={te:.3f}\".format(\n",
    "                   l=lambda_, tr=acc_tr[ind], te=acc_te[ind]))\n",
    "\n",
    "    plot_train_test(rmse_tr, rmse_te, lambdas, 2)\n",
    "    plot_train_test(acc_tr, acc_te, lambdas, 2)\n",
    "    \n",
    "    return ws, rmse_tr, rmse_te"
   ]
  },
  {
   "cell_type": "code",
   "execution_count": 8,
   "metadata": {
    "collapsed": true,
    "jupyter": {
     "outputs_hidden": true
    }
   },
   "outputs": [
    {
     "name": "stdout",
     "output_type": "stream",
     "text": [
      "lambda=0.000010, Training accuracy=0.778, Testing accuracy=0.777\n",
      "lambda=0.000036, Training accuracy=0.773, Testing accuracy=0.773\n",
      "lambda=0.000129, Training accuracy=0.769, Testing accuracy=0.768\n",
      "lambda=0.000464, Training accuracy=0.764, Testing accuracy=0.764\n",
      "lambda=0.001668, Training accuracy=0.759, Testing accuracy=0.759\n",
      "lambda=0.005995, Training accuracy=0.750, Testing accuracy=0.750\n",
      "lambda=0.021544, Training accuracy=0.725, Testing accuracy=0.725\n",
      "lambda=0.077426, Training accuracy=0.713, Testing accuracy=0.713\n",
      "lambda=0.278256, Training accuracy=0.707, Testing accuracy=0.706\n",
      "lambda=1.000000, Training accuracy=0.702, Testing accuracy=0.702\n"
     ]
    },
    {
     "data": {
      "text/plain": [
       "([],\n",
       " [1.2532260594879745,\n",
       "  1.2601822829249005,\n",
       "  1.267067714737374,\n",
       "  1.2735861112601283,\n",
       "  1.27910651176433,\n",
       "  1.2848478433916235,\n",
       "  1.2936473167554279,\n",
       "  1.3086028243379844,\n",
       "  1.3258026665514997,\n",
       "  1.338938973825146],\n",
       " [1.340481572139337,\n",
       "  1.2707849724989222,\n",
       "  1.2691380926468474,\n",
       "  1.2766223519242017,\n",
       "  1.2820528335311139,\n",
       "  1.2872663497977792,\n",
       "  1.29505375705348,\n",
       "  1.3090949703949921,\n",
       "  1.325954506274377,\n",
       "  1.339010570881045])"
      ]
     },
     "execution_count": 8,
     "metadata": {},
     "output_type": "execute_result"
    },
    {
     "data": {
      "image/png": "[encoded data removed]",
      "text/plain": [
       "<Figure size 432x288 with 1 Axes>"
      ]
     },
     "metadata": {
      "needs_background": "light"
     },
     "output_type": "display_data"
    },
    {
     "data": {
      "image/png": "[encoded data removed]",
      "text/plain": [
       "<Figure size 432x288 with 1 Axes>"
      ]
     },
     "metadata": {
      "needs_background": "light"
     },
     "output_type": "display_data"
    }
   ],
   "source": [
    "lambdas = np.logspace(-5, 0, 10)\n",
    "k = 5\n",
    "\n",
    "ridge_regression_cross_lambda_search_sets(x_raw, y, lambdas, k)"
   ]
  },
  {
   "cell_type": "code",
   "execution_count": 10,
   "metadata": {},
   "outputs": [],
   "source": [
    "lambda_ = 0.00001\n",
    "\n",
    "x = flatten_jet_features(x_raw)\n",
    "x, mean_x, std_x = standardize(x)\n",
    "tx = build_poly_matrix_quadratic(x)\n",
    "tx_train, y_train, tx_test, y_test = split_data(tx, y, 0.8)\n",
    "\n",
    "loss, w = ridge_regression(y_train, tx_train, lambda_)"
   ]
  },
  {
   "cell_type": "code",
   "execution_count": 11,
   "metadata": {},
   "outputs": [
    {
     "data": {
      "text/plain": [
       "0.7719"
      ]
     },
     "execution_count": 11,
     "metadata": {},
     "output_type": "execute_result"
    }
   ],
   "source": [
    "y_pred = predict_labels(w, tx_test, mode='linear')\n",
    "(y_pred == y_test).sum() / y_test.shape[0]"
   ]
  },
  {
   "cell_type": "code",
   "execution_count": 5,
   "metadata": {},
   "outputs": [],
   "source": [
    "ws = []\n",
    "x_jet_indexes = get_jet_indexes(x_raw)\n",
    "k = 5\n",
    "lambda_ = 1e-5\n",
    "\n",
    "for i in x_jet_indexes:\n",
    "\n",
    "    tx_std = standardize(x_raw[x_jet_indexes[i]])[0]\n",
    "    tx_del = np.delete(tx_std, jet_indexes[i], axis=1)\n",
    "    tx = build_poly_matrix_quadratic(tx_del)\n",
    "    y_i = y[x_jet_indexes[i]]\n",
    "\n",
    "    k_indices = build_k_indices(y_i, k, 1)\n",
    "\n",
    "    w, tr_loss, te_loss, tr_acc, te_acc = \\\n",
    "        cross_validation(y_i, tx, k_indices, k, lambda_, ridge_regression)\n",
    "\n",
    "    ws.append(w)"
   ]
  },
  {
   "cell_type": "code",
   "execution_count": 6,
   "metadata": {},
   "outputs": [],
   "source": [
    "y_sub, x_sub_raw, ids_sub = load_csv_data('../data/test.csv')\n",
    "x_sub_jet_indexes = get_jet_indexes(x_sub_raw)"
   ]
  },
  {
   "cell_type": "code",
   "execution_count": 8,
   "metadata": {},
   "outputs": [
    {
     "name": "stdout",
     "output_type": "stream",
     "text": [
      "(227458, 420)\n",
      "(175338, 552)\n"
     ]
    },
    {
     "ename": "MemoryError",
     "evalue": "Unable to allocate array with shape (165442, 930) and data type float64",
     "output_type": "error",
     "traceback": [
      "\u001b[0;31m---------------------------------------------------------------------------\u001b[0m",
      "\u001b[0;31mMemoryError\u001b[0m                               Traceback (most recent call last)",
      "\u001b[0;32m<ipython-input-8-40d033e55cac>\u001b[0m in \u001b[0;36m<module>\u001b[0;34m\u001b[0m\n\u001b[1;32m      2\u001b[0m     \u001b[0mtx_sub_std_i\u001b[0m \u001b[0;34m=\u001b[0m \u001b[0mstandardize\u001b[0m\u001b[0;34m(\u001b[0m\u001b[0mx_sub_raw\u001b[0m\u001b[0;34m[\u001b[0m\u001b[0mx_sub_jet_indexes\u001b[0m\u001b[0;34m[\u001b[0m\u001b[0mi\u001b[0m\u001b[0;34m]\u001b[0m\u001b[0;34m]\u001b[0m\u001b[0;34m)\u001b[0m\u001b[0;34m[\u001b[0m\u001b[0;36m0\u001b[0m\u001b[0;34m]\u001b[0m\u001b[0;34m\u001b[0m\u001b[0;34m\u001b[0m\u001b[0m\n\u001b[1;32m      3\u001b[0m     \u001b[0mtx_sub_del_i\u001b[0m \u001b[0;34m=\u001b[0m \u001b[0mnp\u001b[0m\u001b[0;34m.\u001b[0m\u001b[0mdelete\u001b[0m\u001b[0;34m(\u001b[0m\u001b[0mtx_sub_std_i\u001b[0m\u001b[0;34m,\u001b[0m \u001b[0mjet_indexes\u001b[0m\u001b[0;34m[\u001b[0m\u001b[0mi\u001b[0m\u001b[0;34m]\u001b[0m\u001b[0;34m,\u001b[0m \u001b[0maxis\u001b[0m\u001b[0;34m=\u001b[0m\u001b[0;36m1\u001b[0m\u001b[0;34m)\u001b[0m\u001b[0;34m\u001b[0m\u001b[0;34m\u001b[0m\u001b[0m\n\u001b[0;32m----> 4\u001b[0;31m     \u001b[0mtx_sub_i\u001b[0m \u001b[0;34m=\u001b[0m \u001b[0mbuild_poly_matrix_quadratic\u001b[0m\u001b[0;34m(\u001b[0m\u001b[0mtx_sub_del_i\u001b[0m\u001b[0;34m)\u001b[0m\u001b[0;34m\u001b[0m\u001b[0;34m\u001b[0m\u001b[0m\n\u001b[0m\u001b[1;32m      5\u001b[0m     \u001b[0mprint\u001b[0m\u001b[0;34m(\u001b[0m\u001b[0mtx_sub_i\u001b[0m\u001b[0;34m.\u001b[0m\u001b[0mshape\u001b[0m\u001b[0;34m)\u001b[0m\u001b[0;34m\u001b[0m\u001b[0;34m\u001b[0m\u001b[0m\n\u001b[1;32m      6\u001b[0m     \u001b[0;31m# y_sub[x_sub_jet_indexes[i]] = predict_labels(w, tx_sub, mode='linear')\u001b[0m\u001b[0;34m\u001b[0m\u001b[0;34m\u001b[0m\u001b[0;34m\u001b[0m\u001b[0m\n",
      "\u001b[0;32m~/Documenti/EPFL/M1/ML/projects/ml_project_1/src/polynomials.py\u001b[0m in \u001b[0;36mbuild_poly_matrix_quadratic\u001b[0;34m(x)\u001b[0m\n\u001b[1;32m     35\u001b[0m     \u001b[0mcols\u001b[0m \u001b[0;34m=\u001b[0m \u001b[0;34m[\u001b[0m\u001b[0mc\u001b[0m \u001b[0;32mfor\u001b[0m \u001b[0mc\u001b[0m \u001b[0;32min\u001b[0m \u001b[0mx\u001b[0m\u001b[0;34m.\u001b[0m\u001b[0mT\u001b[0m\u001b[0;34m]\u001b[0m\u001b[0;34m\u001b[0m\u001b[0;34m\u001b[0m\u001b[0m\n\u001b[1;32m     36\u001b[0m     \u001b[0mcols\u001b[0m\u001b[0;34m.\u001b[0m\u001b[0mextend\u001b[0m\u001b[0;34m(\u001b[0m\u001b[0mlist\u001b[0m\u001b[0;34m(\u001b[0m\u001b[0mc_1\u001b[0m \u001b[0;34m*\u001b[0m \u001b[0mc_2\u001b[0m \u001b[0;32mfor\u001b[0m \u001b[0mc_2\u001b[0m \u001b[0;32min\u001b[0m \u001b[0mcols\u001b[0m \u001b[0;32mfor\u001b[0m \u001b[0mc_1\u001b[0m \u001b[0;32min\u001b[0m \u001b[0mcols\u001b[0m\u001b[0;34m)\u001b[0m\u001b[0;34m)\u001b[0m\u001b[0;34m\u001b[0m\u001b[0;34m\u001b[0m\u001b[0m\n\u001b[0;32m---> 37\u001b[0;31m     \u001b[0;32mreturn\u001b[0m \u001b[0mnp\u001b[0m\u001b[0;34m.\u001b[0m\u001b[0mcolumn_stack\u001b[0m\u001b[0;34m(\u001b[0m\u001b[0mcols\u001b[0m\u001b[0;34m)\u001b[0m\u001b[0;34m\u001b[0m\u001b[0;34m\u001b[0m\u001b[0m\n\u001b[0m",
      "\u001b[0;32m<__array_function__ internals>\u001b[0m in \u001b[0;36mcolumn_stack\u001b[0;34m(*args, **kwargs)\u001b[0m\n",
      "\u001b[0;32m~/miniconda3/envs/ml/lib/python3.7/site-packages/numpy/lib/shape_base.py\u001b[0m in \u001b[0;36mcolumn_stack\u001b[0;34m(tup)\u001b[0m\n\u001b[1;32m    639\u001b[0m             \u001b[0marr\u001b[0m \u001b[0;34m=\u001b[0m \u001b[0marray\u001b[0m\u001b[0;34m(\u001b[0m\u001b[0marr\u001b[0m\u001b[0;34m,\u001b[0m \u001b[0mcopy\u001b[0m\u001b[0;34m=\u001b[0m\u001b[0;32mFalse\u001b[0m\u001b[0;34m,\u001b[0m \u001b[0msubok\u001b[0m\u001b[0;34m=\u001b[0m\u001b[0;32mTrue\u001b[0m\u001b[0;34m,\u001b[0m \u001b[0mndmin\u001b[0m\u001b[0;34m=\u001b[0m\u001b[0;36m2\u001b[0m\u001b[0;34m)\u001b[0m\u001b[0;34m.\u001b[0m\u001b[0mT\u001b[0m\u001b[0;34m\u001b[0m\u001b[0;34m\u001b[0m\u001b[0m\n\u001b[1;32m    640\u001b[0m         \u001b[0marrays\u001b[0m\u001b[0;34m.\u001b[0m\u001b[0mappend\u001b[0m\u001b[0;34m(\u001b[0m\u001b[0marr\u001b[0m\u001b[0;34m)\u001b[0m\u001b[0;34m\u001b[0m\u001b[0;34m\u001b[0m\u001b[0m\n\u001b[0;32m--> 641\u001b[0;31m     \u001b[0;32mreturn\u001b[0m \u001b[0m_nx\u001b[0m\u001b[0;34m.\u001b[0m\u001b[0mconcatenate\u001b[0m\u001b[0;34m(\u001b[0m\u001b[0marrays\u001b[0m\u001b[0;34m,\u001b[0m \u001b[0;36m1\u001b[0m\u001b[0;34m)\u001b[0m\u001b[0;34m\u001b[0m\u001b[0;34m\u001b[0m\u001b[0m\n\u001b[0m\u001b[1;32m    642\u001b[0m \u001b[0;34m\u001b[0m\u001b[0m\n\u001b[1;32m    643\u001b[0m \u001b[0;34m\u001b[0m\u001b[0m\n",
      "\u001b[0;32m<__array_function__ internals>\u001b[0m in \u001b[0;36mconcatenate\u001b[0;34m(*args, **kwargs)\u001b[0m\n",
      "\u001b[0;31mMemoryError\u001b[0m: Unable to allocate array with shape (165442, 930) and data type float64"
     ]
    }
   ],
   "source": [
    "for i, w in enumerate(ws):\n",
    "    tx_sub_std_i = standardize(x_sub_raw[x_sub_jet_indexes[i]])[0]\n",
    "    tx_sub_del_i = np.delete(tx_sub_std_i, jet_indexes[i], axis=1)\n",
    "    tx_sub_i = build_poly_matrix_quadratic(tx_sub_del_i)\n",
    "    print(tx_sub_i.shape)\n",
    "    # y_sub[x_sub_jet_indexes[i]] = predict_labels(w, tx_sub, mode='linear')\n",
    "    \n",
    "create_csv_submission(ids_sub, y_sub, '../submissions/10-26.16-42.csv')"
   ]
  },
  {
   "cell_type": "code",
   "execution_count": null,
   "metadata": {},
   "outputs": [],
   "source": []
  }
 ],
 "metadata": {
  "kernelspec": {
   "display_name": "Python 3",
   "language": "python",
   "name": "python3"
  },
  "language_info": {
   "codemirror_mode": {
    "name": "ipython",
    "version": 3
   },
   "file_extension": ".py",
   "mimetype": "text/x-python",
   "name": "python",
   "nbconvert_exporter": "python",
   "pygments_lexer": "ipython3",
   "version": "3.7.4"
  }
 },
 "nbformat": 4,
 "nbformat_minor": 4
}
