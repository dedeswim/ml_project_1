{
 "cells": [
  {
   "cell_type": "code",
   "execution_count": 1,
   "metadata": {},
   "outputs": [],
   "source": [
    "import sys\n",
    "sys.path.append('..')\n",
    "\n",
    "import numpy as np\n",
    "from src.helpers import load_csv_data, standardize, flatten_jet_features, predict_labels, create_csv_submission, get_jet_indexes, jet_indexes, compute_accuracy, log_indexes\n",
    "from src.linear.implementations import ridge_regression\n",
    "from src.split import split_data\n",
    "from src.polynomials import build_poly_matrix_vandermonde, build_poly_matrix_quadratic\n",
    "from src.plots import plot_lambda_accuracy, plot_lambda_error, plot_poly_degree_accuracy, plot_poly_degree_error\n",
    "from src.linear.loss import compute_loss\n",
    "from src.k_fold import cross_validation, build_k_indices\n",
    "import time\n",
    "\n",
    "%reload_ext autoreload\n",
    "%autoreload 2"
   ]
  },
  {
   "cell_type": "code",
   "execution_count": 2,
   "metadata": {},
   "outputs": [],
   "source": [
    "# Import data\n",
    "y, x_raw, ids = load_csv_data('../data/train.csv')"
   ]
  },
  {
   "cell_type": "markdown",
   "metadata": {},
   "source": [
    "## Plain ridge regression"
   ]
  },
  {
   "cell_type": "code",
   "execution_count": null,
   "metadata": {},
   "outputs": [],
   "source": [
    "x, mean_x, std_x = standardize(x_raw)\n",
    "tx = np.c_[np.ones((y.shape[0], 1)), x]"
   ]
  },
  {
   "cell_type": "code",
   "execution_count": null,
   "metadata": {},
   "outputs": [],
   "source": [
    "ratio = 0.8\n",
    "tx_train, y_train, tx_test, y_test = split_data(tx, y, ratio)"
   ]
  },
  {
   "cell_type": "code",
   "execution_count": null,
   "metadata": {},
   "outputs": [],
   "source": [
    "loss, w = ridge_regression(y_train, tx_train, 0.01)"
   ]
  },
  {
   "cell_type": "code",
   "execution_count": null,
   "metadata": {},
   "outputs": [],
   "source": [
    "y_pred = predict_labels(w, tx_test, mode='linear')"
   ]
  },
  {
   "cell_type": "code",
   "execution_count": null,
   "metadata": {},
   "outputs": [],
   "source": [
    "(y_pred == y_test).sum() / y_test.shape[0]"
   ]
  },
  {
   "cell_type": "markdown",
   "metadata": {},
   "source": [
    "## Ridge regression with flattened jet features"
   ]
  },
  {
   "cell_type": "code",
   "execution_count": null,
   "metadata": {},
   "outputs": [],
   "source": [
    "x = flatten_jet_features(x_raw)\n",
    "x, mean_x, std_x = standardize(x)\n",
    "tx = np.c_[np.ones((y.shape[0], 1)), x]"
   ]
  },
  {
   "cell_type": "code",
   "execution_count": null,
   "metadata": {},
   "outputs": [],
   "source": [
    "tx_train, y_train, tx_test, y_test = split_data(tx, y, 0.8)"
   ]
  },
  {
   "cell_type": "code",
   "execution_count": null,
   "metadata": {},
   "outputs": [],
   "source": [
    "loss, w = ridge_regression(y_train, tx_train, 0.01)"
   ]
  },
  {
   "cell_type": "code",
   "execution_count": null,
   "metadata": {},
   "outputs": [],
   "source": [
    "y_pred = predict_labels(w, tx_test, mode='linear')"
   ]
  },
  {
   "cell_type": "code",
   "execution_count": null,
   "metadata": {},
   "outputs": [],
   "source": [
    "(y_pred == y_test).sum() / y_test.shape[0]"
   ]
  },
  {
   "cell_type": "markdown",
   "metadata": {},
   "source": [
    "## Ridge regression with flattened jet features and polynomial degree"
   ]
  },
  {
   "cell_type": "code",
   "execution_count": null,
   "metadata": {},
   "outputs": [],
   "source": [
    "x = flatten_jet_features(x_raw)\n",
    "x, mean_x, std_x = standardize(x)\n",
    "tx = build_poly_matrix_vandermonde(x, 12)"
   ]
  },
  {
   "cell_type": "code",
   "execution_count": null,
   "metadata": {},
   "outputs": [],
   "source": [
    "tx_train, y_train, tx_test, y_test = split_data(tx, y, 0.8)"
   ]
  },
  {
   "cell_type": "code",
   "execution_count": null,
   "metadata": {},
   "outputs": [],
   "source": [
    "loss, w = ridge_regression(y_train, tx_train, 0.0001)"
   ]
  },
  {
   "cell_type": "code",
   "execution_count": null,
   "metadata": {},
   "outputs": [],
   "source": [
    "y_pred = predict_labels(w, tx_test, mode='linear')"
   ]
  },
  {
   "cell_type": "code",
   "execution_count": null,
   "metadata": {},
   "outputs": [],
   "source": [
    "(y_pred == y_test).sum() / y_test.shape[0]"
   ]
  },
  {
   "cell_type": "markdown",
   "metadata": {},
   "source": [
    "Result with lambda = 0.0001, degree = 12 => 0.79616"
   ]
  },
  {
   "cell_type": "code",
   "execution_count": null,
   "metadata": {},
   "outputs": [],
   "source": [
    "y_sub, x_sub_raw, ids_sub = load_csv_data('../data/test.csv')\n",
    "y_pred = predict_labels(w, tx_test, mode='linear')\n",
    "create_csv_submission(ids, y_pred, '../submissions/10-24.22-32.csv')"
   ]
  },
  {
   "cell_type": "markdown",
   "metadata": {},
   "source": [
    "## Ridge regression with different sets"
   ]
  },
  {
   "cell_type": "code",
   "execution_count": null,
   "metadata": {},
   "outputs": [],
   "source": [
    "degree = 2\n",
    "ratio = 0.8\n",
    "lambda_ = 0.0001\n",
    "\n",
    "x_train, y_train, x_test, y_test = split_data(x_raw, y, ratio)\n",
    "\n",
    "train_jet_indexes= get_jet_indexes(x_train)\n",
    "test_jet_indexes = get_jet_indexes(x_test)"
   ]
  },
  {
   "cell_type": "code",
   "execution_count": null,
   "metadata": {},
   "outputs": [],
   "source": [
    "ws = []\n",
    "accuracies = []\n",
    "\n",
    "y_pred = np.zeros((x_test.shape[0], 1))\n",
    "\n",
    "for i in train_jet_indexes:\n",
    "    \n",
    "    tx_train_raw = x_train[train_jet_indexes[i]]\n",
    "    tx_test_raw = x_test[test_jet_indexes[i]]\n",
    "    \n",
    "    tx_train_std = standardize(tx_train_raw)[0]\n",
    "    tx_test_std = standardize(tx_test_raw)[0]\n",
    "    \n",
    "    tx_train_rem = np.delete(tx_train_std, jet_indexes[i], axis=1)\n",
    "    tx_test_rem = np.delete(tx_test_std, jet_indexes[i], axis=1)\n",
    "    \n",
    "    tx_train = build_poly_matrix_vandermonde(tx_train_rem, degree)\n",
    "    tx_test = build_poly_matrix_vandermonde(tx_test_rem, degree)\n",
    "    \n",
    "    loss, w = ridge_regression(y_train[train_jet_indexes[i]], tx_train, lambda_)\n",
    "    \n",
    "    y_pred[test_jet_indexes[i]] = predict_labels(w, tx_test, mode='linear')\n",
    "    ws.append(w)"
   ]
  },
  {
   "cell_type": "code",
   "execution_count": null,
   "metadata": {},
   "outputs": [],
   "source": [
    "tot_accuracy = (y_pred == y_test).sum() / (y_test.shape[0])\n",
    "tot_accuracy"
   ]
  },
  {
   "cell_type": "markdown",
   "metadata": {},
   "source": [
    "With degree 12, lambda = 0.001 => test accuracy = 0.710"
   ]
  },
  {
   "cell_type": "code",
   "execution_count": null,
   "metadata": {},
   "outputs": [],
   "source": [
    "y_sub, x_sub_raw, ids_sub = load_csv_data('../data/test.csv')\n",
    "tx_sub_split, y_sub_split, ids_split = jet_split(x_sub_raw, y_sub, ids_sub, degree)"
   ]
  },
  {
   "cell_type": "code",
   "execution_count": null,
   "metadata": {},
   "outputs": [],
   "source": [
    "y_split_pred = [predict_labels(ws[i], x, mode='linear') for i, x in enumerate(tx_sub_split)]"
   ]
  },
  {
   "cell_type": "code",
   "execution_count": null,
   "metadata": {},
   "outputs": [],
   "source": [
    "y_split_cat = np.concatenate(y_split_pred)\n",
    "ids_split_cat = np.concatenate(ids_split)\n",
    "create_csv_submission(ids_split_cat, y_split_cat, '../submissions/10-24.21-37.csv')"
   ]
  },
  {
   "cell_type": "markdown",
   "metadata": {},
   "source": [
    "## Ridge regression with lambda grid_search"
   ]
  },
  {
   "cell_type": "code",
   "execution_count": null,
   "metadata": {},
   "outputs": [],
   "source": [
    "def ridge_regression_lambda_search(x, y, lambdas, degree, ratio):\n",
    "\n",
    "    x = flatten_jet_features(x_raw)\n",
    "    x, mean_x, std_x = standardize(x)\n",
    "    tx = build_poly_matrix_vandermonde(x, degree)\n",
    "\n",
    "    tx_train, y_train, tx_test, y_test = split_data(tx, y, ratio)\n",
    "\n",
    "    rmse_tr = []\n",
    "    rmse_te = []\n",
    "    acc_tr = []\n",
    "    acc_te = []\n",
    "    ws = []\n",
    "\n",
    "    for ind, lambda_ in enumerate(lambdas):\n",
    "\n",
    "        tr_loss, w = ridge_regression(y_train, tx_train, lambda_)\n",
    "        te_loss = compute_loss(y_test, tx_test, w)\n",
    "        \n",
    "        tr_acc = compute_accuracy(tx_train, w, y_train, mode='linear')\n",
    "        te_acc = compute_accuracy(tx_test, w, y_test, mode='linear')\n",
    "\n",
    "        rmse_tr.append(np.math.sqrt(2 * tr_loss))\n",
    "        rmse_te.append(np.math.sqrt(2 * te_loss))\n",
    "        acc_tr.append(tr_acc)\n",
    "        acc_te.append(te_acc)\n",
    "        ws.append(w)\n",
    "\n",
    "        print(\"proportion={p}, degree={d}, lambda={l:.6f}, Training RMSE={tr:.3f}, Testing RMSE={te:.3f}\".format(\n",
    "                   p=ratio, d=degree, l=lambda_, tr=rmse_tr[ind], te=rmse_te[ind]))\n",
    "\n",
    "    plot_train_test(rmse_tr, rmse_te, lambdas, degree)\n",
    "    plot_train_test(acc_tr, acc_te, lambdas, degree)\n",
    "    return ws, rmse_tr, rmse_te"
   ]
  },
  {
   "cell_type": "code",
   "execution_count": null,
   "metadata": {},
   "outputs": [],
   "source": [
    "lambdas = np.logspace(-5, 0, 15)\n",
    "degree = 12\n",
    "ratio = 0.8\n",
    "\n",
    "ws, rmse_tr, rmse_te = ridge_regression_lambda_search(x_raw, y, lambdas, degree, ratio)"
   ]
  },
  {
   "cell_type": "code",
   "execution_count": null,
   "metadata": {},
   "outputs": [],
   "source": [
    "def ridge_regression_degree_search(x, y, lambda_, degrees, ratio):\n",
    "\n",
    "    x = flatten_jet_features(x_raw)\n",
    "    x, mean_x, std_x = standardize(x)\n",
    "\n",
    "    rmse_tr = []\n",
    "    rmse_te = []\n",
    "    acc_tr = []\n",
    "    acc_te = []\n",
    "    ws = []\n",
    "\n",
    "    for ind, degree in enumerate(degrees):\n",
    "        \n",
    "        tx = build_poly_matrix_vandermonde(x, degree)\n",
    "        tx_train, y_train, tx_test, y_test = split_data(tx, y, ratio)\n",
    "\n",
    "        tr_loss, w = ridge_regression(y_train, tx_train, lambda_)\n",
    "        te_loss = compute_loss(y_test, tx_test, w)\n",
    "        \n",
    "        tr_acc = compute_accuracy(tx_train, w, y_train, mode='linear')\n",
    "        te_acc = compute_accuracy(tx_test, w, y_test, mode='linear')\n",
    "\n",
    "        rmse_tr.append(np.math.sqrt(2 * tr_loss))\n",
    "        rmse_te.append(np.math.sqrt(2 * te_loss))\n",
    "        acc_tr.append(tr_acc)\n",
    "        acc_te.append(te_acc)\n",
    "        ws.append(w)\n",
    "\n",
    "        print(\"proportion={p}, degree={d}, lambda={l:.6f}, Training RMSE={tr:.3f}, Testing RMSE={te:.3f}\".format(\n",
    "                   p=ratio, d=degree, l=lambda_, tr=rmse_tr[ind], te=rmse_te[ind]))\n",
    "\n",
    "    plot_poly_degree(rmse_tr, rmse_te, degrees, lambda_)\n",
    "    plot_poly_degree(acc_tr, acc_te, degrees, lambda_)\n",
    "    return ws, rmse_tr, rmse_te"
   ]
  },
  {
   "cell_type": "code",
   "execution_count": null,
   "metadata": {},
   "outputs": [],
   "source": [
    "lambda_ = 0.0001\n",
    "degrees = range(16)\n",
    "ratio = 0.8\n",
    "\n",
    "ws, rmse_tr, rmse_te = ridge_regression_degree_search(x_raw, y, lambda_, degrees, ratio)"
   ]
  },
  {
   "cell_type": "markdown",
   "metadata": {},
   "source": [
    "The best combination seems to be with lambda = 0.0001 and degree = 15"
   ]
  },
  {
   "cell_type": "code",
   "execution_count": null,
   "metadata": {},
   "outputs": [],
   "source": [
    "lambda_ = 0.00001\n",
    "degree = 5\n",
    "\n",
    "x = flatten_jet_features(x_raw)\n",
    "x, mean_x, std_x = standardize(x)\n",
    "tx = build_poly_matrix_vandermonde(x, degree)\n",
    "tx_train, y_train, tx_test, y_test = split_data(tx, y, 0.8)\n",
    "\n",
    "loss, w = ridge_regression(y_train, tx_train, lambda_)"
   ]
  },
  {
   "cell_type": "code",
   "execution_count": null,
   "metadata": {},
   "outputs": [],
   "source": [
    "y_pred = predict_labels(w, tx_test, mode='linear')\n",
    "(y_pred == y_test).sum() / y_test.shape[0]"
   ]
  },
  {
   "cell_type": "code",
   "execution_count": null,
   "metadata": {},
   "outputs": [],
   "source": [
    "y_sub, x_sub_raw, ids_sub = load_csv_data('../data/test.csv')\n",
    "\n",
    "x_sub = flatten_jet_features(x_sub_raw)\n",
    "x_sub, mean_x, std_x = standardize(x_sub)\n",
    "tx_sub = build_poly_matrix_vandermonde(x_sub, degree)"
   ]
  },
  {
   "cell_type": "code",
   "execution_count": null,
   "metadata": {},
   "outputs": [],
   "source": [
    "y_sub = predict_labels(w, tx_sub, mode='linear')"
   ]
  },
  {
   "cell_type": "code",
   "execution_count": null,
   "metadata": {},
   "outputs": [],
   "source": [
    "create_csv_submission(ids_sub, y_sub, '../submissions/10-25.00-44.csv')"
   ]
  },
  {
   "cell_type": "markdown",
   "metadata": {},
   "source": [
    "## Ridge regression with cross validation"
   ]
  },
  {
   "cell_type": "code",
   "execution_count": null,
   "metadata": {},
   "outputs": [],
   "source": [
    "def ridge_regression_cross_degree_search(x, y, lambda_, degrees, k):\n",
    "\n",
    "    x = flatten_jet_features(x)\n",
    "    x, mean_x, std_x = standardize(x)\n",
    "    \n",
    "    k_indices = build_k_indices(y, k, 1)\n",
    "\n",
    "    rmse_tr = []\n",
    "    rmse_te = []\n",
    "    acc_tr = []\n",
    "    acc_te = []\n",
    "    ws = []\n",
    "\n",
    "    for ind, degree in enumerate(degrees):\n",
    "        \n",
    "        tr_loss, te_loss, tr_acc, te_acc = cross_validation(y, x, k_indices, k, lambda_, degree, ridge_regression)\n",
    "\n",
    "\n",
    "        rmse_tr.append(np.math.sqrt(2 * tr_loss))\n",
    "        rmse_te.append(np.math.sqrt(2 * te_loss))\n",
    "        acc_tr.append(tr_acc)\n",
    "        acc_te.append(te_acc)\n",
    "        # ws.append(w)\n",
    "\n",
    "        print(\"degree={d}, lambda={l:.6f}, Training RMSE={tr:.3f}, Testing RMSE={te:.3f}\".format(\n",
    "                   d=degree, l=lambda_, tr=rmse_tr[ind], te=rmse_te[ind]))\n",
    "\n",
    "    plot_poly_degree(rmse_tr, rmse_te, degrees, lambda_)\n",
    "    plot_poly_degree(acc_tr, acc_te, degrees, lambda_)\n",
    "    return ws, rmse_tr, rmse_te"
   ]
  },
  {
   "cell_type": "code",
   "execution_count": null,
   "metadata": {},
   "outputs": [],
   "source": [
    "lambda_ = 1e-3\n",
    "degrees = range(15)\n",
    "k = 5 \n",
    "ws, rmse_tr, rmse_te = ridge_regression_cross_degree_search(x_raw, y, lambda_, degrees, 5)"
   ]
  },
  {
   "cell_type": "markdown",
   "metadata": {},
   "source": [
    "## Ridge regression with cross validation on different sets"
   ]
  },
  {
   "cell_type": "code",
   "execution_count": 32,
   "metadata": {},
   "outputs": [],
   "source": [
    "def ridge_regression_cross_degree_search_sets(x, y, lambda_, degrees, k):\n",
    "    \n",
    "    x_jet_indexes = get_jet_indexes(x)\n",
    "    rmse_tr = []\n",
    "    rmse_te = []\n",
    "    acc_tr = []\n",
    "    acc_te = []\n",
    "    ws = []\n",
    "\n",
    "    for ind, degree in enumerate(degrees):\n",
    "        \n",
    "        ws = []\n",
    "        te_accs = []\n",
    "        tr_accs = []\n",
    "        te_losses = []\n",
    "        tr_losses = []\n",
    "\n",
    "        for i in x_jet_indexes:\n",
    "\n",
    "            tx_i = x[x_jet_indexes[i]]\n",
    "            y_i = y[x_jet_indexes[i]]\n",
    "            tx_del = np.delete(tx_i, jet_indexes[i], axis=1)\n",
    "            \n",
    "            for li in log_indexes:\n",
    "                # print(tx_del[:,li].min())\n",
    "                tx_del[:,li] = np.apply_along_axis(lambda n: np.log(1 + abs(tx_del[:,li].min()) + n), 0, tx_del[:,li])\n",
    "\n",
    "\n",
    "            tx_std = standardize(x[x_jet_indexes[i]])[0]\n",
    "            tx = build_poly_matrix_vandermonde(tx_del, degree)\n",
    "            tx = np.c_[np.ones((y_i.shape[0], 1)), tx]\n",
    "            \n",
    "            k_indices = build_k_indices(y_i, k, 1)\n",
    "            \n",
    "            w, tr_loss, te_loss, tr_acc, te_acc = \\\n",
    "                cross_validation(y_i, tx, k_indices, k, lambda_, ridge_regression)\n",
    "\n",
    "            # ws.append(w)\n",
    "            te_accs.append(te_acc * x[x_jet_indexes[i]].shape[0])\n",
    "            tr_accs.append(tr_acc * x[x_jet_indexes[i]].shape[0])\n",
    "            te_losses.append(te_loss * x[x_jet_indexes[i]].shape[0])\n",
    "            tr_losses.append(tr_loss * x[x_jet_indexes[i]].shape[0])\n",
    "            \n",
    "        rmse_tr.append(np.math.sqrt(2 * sum(tr_losses) / x.shape[0]))\n",
    "        rmse_te.append(np.math.sqrt(2 * sum(te_losses) / x.shape[0]))\n",
    "        acc_tr.append(sum(tr_accs) / x.shape[0])\n",
    "        acc_te.append(sum(te_accs) / x.shape[0])\n",
    "\n",
    "        print(\"degree={d}, lambda={l:.6f}, Training RMSE={tr:.3f}, Testing RMSE={te:.3f}\".format(\n",
    "                   d=degree, l=lambda_, tr=rmse_tr[ind], te=rmse_te[ind]))\n",
    "\n",
    "    plot_poly_degree_error(rmse_tr, rmse_te, degrees, lambda_)\n",
    "    plot_poly_degree_accuracy(acc_tr, acc_te, degrees, lambda_)\n",
    "    \n",
    "    return ws, rmse_tr, rmse_te"
   ]
  },
  {
   "cell_type": "code",
   "execution_count": 33,
   "metadata": {},
   "outputs": [],
   "source": [
    "# Import data\n",
    "y, x_raw, ids = load_csv_data('../data/train.csv')"
   ]
  },
  {
   "cell_type": "code",
   "execution_count": 34,
   "metadata": {},
   "outputs": [],
   "source": [
    "x_jet_indexes = get_jet_indexes(x_raw)\n",
    "# x_jet_indexes = get_all(x_raw)\n",
    "x = x_raw\n",
    "x_mass = np.zeros(x.shape[0])\n",
    "x_mass[x[:, 0] == -999] = 1\n",
    "x[:, 0][x[:, 0] == -999] = np.median(x[:, 0][x[:, 0] != -999])\n",
    "x = np.column_stack((x, x_mass))"
   ]
  },
  {
   "cell_type": "code",
   "execution_count": 35,
   "metadata": {},
   "outputs": [
    {
     "name": "stdout",
     "output_type": "stream",
     "text": [
      "degree=0, lambda=0.000010, Training RMSE=1.367, Testing RMSE=1.367\n",
      "degree=1, lambda=0.000010, Training RMSE=1.271, Testing RMSE=1.271\n",
      "degree=2, lambda=0.000010, Training RMSE=1.240, Testing RMSE=1.240\n",
      "degree=3, lambda=0.000010, Training RMSE=1.234, Testing RMSE=1.236\n",
      "degree=4, lambda=0.000010, Training RMSE=1.229, Testing RMSE=1.236\n",
      "degree=5, lambda=0.000010, Training RMSE=1.219, Testing RMSE=1.222\n",
      "degree=6, lambda=0.000010, Training RMSE=1.216, Testing RMSE=1.715\n",
      "degree=7, lambda=0.000010, Training RMSE=1.213, Testing RMSE=1.876\n",
      "degree=8, lambda=0.000010, Training RMSE=1.210, Testing RMSE=4.109\n",
      "degree=9, lambda=0.000010, Training RMSE=1.207, Testing RMSE=12.099\n",
      "degree=10, lambda=0.000010, Training RMSE=1.206, Testing RMSE=23.771\n",
      "degree=11, lambda=0.000010, Training RMSE=1.336, Testing RMSE=39.134\n",
      "degree=12, lambda=0.000010, Training RMSE=1.414, Testing RMSE=507.676\n",
      "degree=13, lambda=0.000010, Training RMSE=1.412, Testing RMSE=292.308\n",
      "degree=14, lambda=0.000010, Training RMSE=1.634, Testing RMSE=320.360\n"
     ]
    },
    {
     "data": {
      "image/png": "[encoded data removed]",
      "text/plain": [
       "<Figure size 432x288 with 1 Axes>"
      ]
     },
     "metadata": {
      "needs_background": "light"
     },
     "output_type": "display_data"
    },
    {
     "data": {
      "image/png": "[encoded data removed]",
      "text/plain": [
       "<Figure size 432x288 with 1 Axes>"
      ]
     },
     "metadata": {
      "needs_background": "light"
     },
     "output_type": "display_data"
    }
   ],
   "source": [
    "lambda_ = 1e-5\n",
    "degrees = range(15)\n",
    "k = 5\n",
    "\n",
    "ws, rmse_tr, rmse_te = ridge_regression_cross_degree_search_sets(x, y, lambda_, degrees, k)"
   ]
  },
  {
   "cell_type": "code",
   "execution_count": 47,
   "metadata": {},
   "outputs": [],
   "source": [
    "def ridge_regression_cross_lambda_search_sets(x, y, lambdas, k):\n",
    "    \n",
    "    x_jet_indexes = get_jet_indexes(x)\n",
    "    rmse_tr = []\n",
    "    rmse_te = []\n",
    "    acc_tr = []\n",
    "    acc_te = []\n",
    "    ws = []\n",
    "\n",
    "    for ind, lambda_ in enumerate(lambdas):\n",
    "        \n",
    "        ws = []\n",
    "        te_accs = []\n",
    "        tr_accs = []\n",
    "        te_losses = []\n",
    "        tr_losses = []\n",
    "\n",
    "        for i in x_jet_indexes:\n",
    "            \n",
    "            tx_i = x[x_jet_indexes[i]]\n",
    "            y_i = y[x_jet_indexes[i]]\n",
    "            tx_del = np.delete(tx_i, jet_indexes[i], axis=1)\n",
    "            \n",
    "            for li in log_indexes:\n",
    "                # print(tx_del[:,li].min())\n",
    "                tx_del[:,li] = np.apply_along_axis(lambda n: np.log(1 + abs(tx_del[:,li].min()) + n), 0, tx_del[:,li])\n",
    "\n",
    "\n",
    "            tx_std = standardize(x[x_jet_indexes[i]])[0]\n",
    "            # tx = build_poly_matrix_quadratic(tx_del)\n",
    "            tx = build_poly_matrix_vandermonde(tx_del, 10)\n",
    "            tx = np.c_[np.ones((y_i.shape[0], 1)), tx]\n",
    "\n",
    "            \n",
    "            k_indices = build_k_indices(y_i, k, 1)\n",
    "            \n",
    "            w, tr_loss, te_loss, tr_acc, te_acc = \\\n",
    "                cross_validation(y_i, tx, k_indices, k, lambda_, ridge_regression)\n",
    "\n",
    "            ws.append(w)\n",
    "            te_accs.append(te_acc * x[x_jet_indexes[i]].shape[0])\n",
    "            tr_accs.append(tr_acc * x[x_jet_indexes[i]].shape[0])\n",
    "            te_losses.append(te_loss * x[x_jet_indexes[i]].shape[0])\n",
    "            tr_losses.append(tr_loss * x[x_jet_indexes[i]].shape[0])\n",
    "            \n",
    "        rmse_tr.append(np.math.sqrt(2 * sum(tr_losses) / x.shape[0]))\n",
    "        rmse_te.append(np.math.sqrt(2 * sum(te_losses) / x.shape[0]))\n",
    "        acc_tr.append(sum(tr_accs) / x.shape[0])\n",
    "        acc_te.append(sum(te_accs) / x.shape[0])\n",
    "\n",
    "        print(\"lambda={l:.6f}, Training accuracy={tr:.3f}, Testing accuracy={te:.3f}\".format(\n",
    "                   l=lambda_, tr=acc_tr[ind], te=acc_te[ind]))\n",
    "\n",
    "    plot_lambda_error(rmse_tr, rmse_te, lambdas, 2)\n",
    "    plot_lambda_accuracy(acc_tr, acc_te, lambdas, 2)\n",
    "    \n",
    "    return ws, rmse_tr, rmse_te"
   ]
  },
  {
   "cell_type": "code",
   "execution_count": 48,
   "metadata": {},
   "outputs": [],
   "source": [
    "# Import data\n",
    "y, x_raw, ids = load_csv_data('../data/train.csv')"
   ]
  },
  {
   "cell_type": "code",
   "execution_count": 49,
   "metadata": {},
   "outputs": [],
   "source": [
    "x_jet_indexes = get_jet_indexes(x_raw)\n",
    "# x_jet_indexes = get_all(x_raw)\n",
    "x = x_raw\n",
    "x_mass = np.zeros(x.shape[0])\n",
    "x_mass[x[:, 0] == -999] = 1\n",
    "x[:, 0][x[:, 0] == -999] = np.median(x[:, 0][x[:, 0] != -999])\n",
    "x = np.column_stack((x, x_mass))"
   ]
  },
  {
   "cell_type": "code",
   "execution_count": 50,
   "metadata": {},
   "outputs": [
    {
     "name": "stdout",
     "output_type": "stream",
     "text": [
      "lambda=0.000010, Training accuracy=0.823, Testing accuracy=0.821\n",
      "lambda=0.000023, Training accuracy=0.822, Testing accuracy=0.821\n",
      "lambda=0.000052, Training accuracy=0.822, Testing accuracy=0.821\n",
      "lambda=0.000118, Training accuracy=0.822, Testing accuracy=0.820\n",
      "lambda=0.000268, Training accuracy=0.822, Testing accuracy=0.820\n",
      "lambda=0.000611, Training accuracy=0.821, Testing accuracy=0.820\n",
      "lambda=0.001389, Training accuracy=0.821, Testing accuracy=0.819\n",
      "lambda=0.003162, Training accuracy=0.820, Testing accuracy=0.819\n",
      "lambda=0.007197, Training accuracy=0.820, Testing accuracy=0.819\n",
      "lambda=0.016379, Training accuracy=0.820, Testing accuracy=0.818\n",
      "lambda=0.037276, Training accuracy=0.819, Testing accuracy=0.818\n",
      "lambda=0.084834, Training accuracy=0.818, Testing accuracy=0.817\n",
      "lambda=0.193070, Training accuracy=0.817, Testing accuracy=0.816\n",
      "lambda=0.439397, Training accuracy=0.816, Testing accuracy=0.815\n",
      "lambda=1.000000, Training accuracy=0.813, Testing accuracy=0.812\n"
     ]
    },
    {
     "data": {
      "image/png": "[encoded data removed]",
      "text/plain": [
       "<Figure size 432x288 with 1 Axes>"
      ]
     },
     "metadata": {
      "needs_background": "light"
     },
     "output_type": "display_data"
    },
    {
     "data": {
      "image/png": "[encoded data removed]",
      "text/plain": [
       "<Figure size 432x288 with 1 Axes>"
      ]
     },
     "metadata": {
      "needs_background": "light"
     },
     "output_type": "display_data"
    }
   ],
   "source": [
    "lambdas = np.logspace(-5, 0, 15)\n",
    "k = 5\n",
    "\n",
    "_ = ridge_regression_cross_lambda_search_sets(x, y, lambdas, k)"
   ]
  },
  {
   "cell_type": "markdown",
   "metadata": {},
   "source": [
    "lambda = 1e-5, quadratic => acc = 0.809\n",
    "lambda = 1e-5, 2nd degree => acc = 0.792"
   ]
  },
  {
   "cell_type": "code",
   "execution_count": 2,
   "metadata": {},
   "outputs": [],
   "source": [
    "def ridge_regression_sets(x, y, lambda_, k):\n",
    "        \n",
    "    ws = []\n",
    "\n",
    "    for i in x_jet_indexes:\n",
    "\n",
    "        tx_i = x[x_jet_indexes[i]]\n",
    "        \n",
    "        y_i = y[x_jet_indexes[i]]\n",
    "        tx_del = np.delete(tx_i, jet_indexes[i], axis=1)\n",
    "        \n",
    "        for li in log_indexes:\n",
    "            tx_del[:,li] = np.apply_along_axis(lambda n: np.log(1 + abs(tx_del[:,li].min()) + n), 0, tx_del[:,li])\n",
    "\n",
    "        tx_std = standardize(tx_del)[0]\n",
    "        print(tx_std.shape)\n",
    "        \n",
    "        tx = build_poly_matrix_quadratic(tx_std)\n",
    "        tx = np.c_[np.ones((y_i.shape[0], 1)), tx]\n",
    "        \n",
    "        k_indices = build_k_indices(y_i, k, 1)\n",
    "\n",
    "        w, tr_loss, te_loss, tr_acc, te_acc = \\\n",
    "            cross_validation(y_i, tx, k_indices, k, lambda_, ridge_regression)\n",
    "\n",
    "        ws.append(w)\n",
    "    \n",
    "    return ws"
   ]
  },
  {
   "cell_type": "markdown",
   "metadata": {},
   "source": [
    "## Submission preparation"
   ]
  },
  {
   "cell_type": "code",
   "execution_count": 3,
   "metadata": {},
   "outputs": [],
   "source": [
    "# Import data\n",
    "y, x_raw, ids = load_csv_data('../data/train.csv')"
   ]
  },
  {
   "cell_type": "code",
   "execution_count": 4,
   "metadata": {},
   "outputs": [],
   "source": [
    "x_jet_indexes = get_jet_indexes(x_raw)\n",
    "x = x_raw\n",
    "x_mass = np.zeros(x.shape[0])\n",
    "x_mass[x[:, 0] == -999] = 1\n",
    "x[:, 0][x[:, 0] == -999] = np.median(x[:, 0][x[:, 0] != -999])\n",
    "x = np.column_stack((x, x_mass))"
   ]
  },
  {
   "cell_type": "code",
   "execution_count": 5,
   "metadata": {},
   "outputs": [
    {
     "data": {
      "text/plain": [
       "(250000, 31)"
      ]
     },
     "execution_count": 5,
     "metadata": {},
     "output_type": "execute_result"
    }
   ],
   "source": [
    "x.shape"
   ]
  },
  {
   "cell_type": "code",
   "execution_count": 6,
   "metadata": {},
   "outputs": [
    {
     "name": "stdout",
     "output_type": "stream",
     "text": [
      "(99913, 21)\n",
      "(77544, 24)\n",
      "(72543, 31)\n"
     ]
    }
   ],
   "source": [
    "lambda_ = 1e-5\n",
    "k = 5\n",
    "\n",
    "ws = ridge_regression_sets(x, y, lambda_, k)"
   ]
  },
  {
   "cell_type": "code",
   "execution_count": 7,
   "metadata": {},
   "outputs": [],
   "source": [
    "y_sub, x_sub_raw, ids_sub = load_csv_data('../data/test.csv')\n",
    "x_sub_jet_indexes = get_jet_indexes(x_sub_raw)"
   ]
  },
  {
   "cell_type": "code",
   "execution_count": 8,
   "metadata": {},
   "outputs": [],
   "source": [
    "x_sub = x_sub_raw"
   ]
  },
  {
   "cell_type": "code",
   "execution_count": 9,
   "metadata": {},
   "outputs": [],
   "source": [
    "x_sub_mass = np.zeros(x_sub.shape[0])\n",
    "x_sub_mass[x_sub[:, 0] == -999] = 1\n",
    "x_sub[:, 0][x_sub[:, 0] == -999] = np.median(x_sub[:, 0][x_sub[:, 0] != -999])\n",
    "x_sub = np.column_stack((x_sub, x_sub_mass))"
   ]
  },
  {
   "cell_type": "code",
   "execution_count": 10,
   "metadata": {},
   "outputs": [
    {
     "data": {
      "text/plain": [
       "(568238, 31)"
      ]
     },
     "execution_count": 10,
     "metadata": {},
     "output_type": "execute_result"
    }
   ],
   "source": [
    "x_sub.shape"
   ]
  },
  {
   "cell_type": "code",
   "execution_count": 11,
   "metadata": {},
   "outputs": [],
   "source": [
    "for i, w in enumerate(ws):\n",
    "    \n",
    "    tx_sub_i = x_sub[x_sub_jet_indexes[i]] \n",
    "    tx_sub_del = np.delete(tx_sub_i, jet_indexes[i], axis=1)\n",
    "    \n",
    "    for li in log_indexes:\n",
    "        # print(tx_del[:,li].min())\n",
    "        tx_sub_del[:,li] = np.apply_along_axis(lambda n: np.log(1 + abs(tx_sub_del[:,li].min()) + n), 0, tx_sub_del[:,li])\n",
    "    \n",
    "    tx_sub_std = standardize(tx_sub_del)[0]\n",
    "    tx_sub_poly = build_poly_matrix_quadratic(tx_sub_std)\n",
    "    \n",
    "    tx_sub = np.c_[np.ones((y_sub[x_sub_jet_indexes[i]].shape[0], 1)), tx_sub_poly]\n",
    "    \n",
    "    y_sub[x_sub_jet_indexes[i]] = predict_labels(ws[i], tx_sub, mode='linear')"
   ]
  },
  {
   "cell_type": "code",
   "execution_count": 12,
   "metadata": {},
   "outputs": [],
   "source": [
    "create_csv_submission(ids_sub, y_sub, '../submissions/10-27.11-30.csv')"
   ]
  },
  {
   "cell_type": "code",
   "execution_count": null,
   "metadata": {},
   "outputs": [],
   "source": []
  }
 ],
 "metadata": {
  "kernelspec": {
   "display_name": "Python 3",
   "language": "python",
   "name": "python3"
  },
  "language_info": {
   "codemirror_mode": {
    "name": "ipython",
    "version": 3
   },
   "file_extension": ".py",
   "mimetype": "text/x-python",
   "name": "python",
   "nbconvert_exporter": "python",
   "pygments_lexer": "ipython3",
   "version": "3.7.4"
  }
 },
 "nbformat": 4,
 "nbformat_minor": 4
}
